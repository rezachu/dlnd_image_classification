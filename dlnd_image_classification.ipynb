{
 "cells": [
  {
   "cell_type": "markdown",
   "metadata": {
    "collapsed": true,
    "deletable": true,
    "editable": true
   },
   "source": [
    "# Image Classification\n",
    "In this project, you'll classify images from the [CIFAR-10 dataset](https://www.cs.toronto.edu/~kriz/cifar.html).  The dataset consists of airplanes, dogs, cats, and other objects. You'll preprocess the images, then train a convolutional neural network on all the samples. The images need to be normalized and the labels need to be one-hot encoded.  You'll get to apply what you learned and build a convolutional, max pooling, dropout, and fully connected layers.  At the end, you'll get to see your neural network's predictions on the sample images.\n",
    "## Get the Data\n",
    "Run the following cell to download the [CIFAR-10 dataset for python](https://www.cs.toronto.edu/~kriz/cifar-10-python.tar.gz)."
   ]
  },
  {
   "cell_type": "code",
   "execution_count": 97,
   "metadata": {
    "collapsed": false,
    "deletable": true,
    "editable": true
   },
   "outputs": [
    {
     "name": "stdout",
     "output_type": "stream",
     "text": [
      "All files found!\n"
     ]
    }
   ],
   "source": [
    "\"\"\"\n",
    "DON'T MODIFY ANYTHING IN THIS CELL THAT IS BELOW THIS LINE\n",
    "\"\"\"\n",
    "from urllib.request import urlretrieve\n",
    "from os.path import isfile, isdir\n",
    "from tqdm import tqdm\n",
    "import problem_unittests as tests\n",
    "import tarfile\n",
    "\n",
    "cifar10_dataset_folder_path = 'cifar-10-batches-py'\n",
    "\n",
    "class DLProgress(tqdm):\n",
    "    last_block = 0\n",
    "\n",
    "    def hook(self, block_num=1, block_size=1, total_size=None):\n",
    "        self.total = total_size\n",
    "        self.update((block_num - self.last_block) * block_size)\n",
    "        self.last_block = block_num\n",
    "\n",
    "if not isfile('cifar-10-python.tar.gz'):\n",
    "    with DLProgress(unit='B', unit_scale=True, miniters=1, desc='CIFAR-10 Dataset') as pbar:\n",
    "        urlretrieve(\n",
    "            'https://www.cs.toronto.edu/~kriz/cifar-10-python.tar.gz',\n",
    "            'cifar-10-python.tar.gz',\n",
    "            pbar.hook)\n",
    "\n",
    "if not isdir(cifar10_dataset_folder_path):\n",
    "    with tarfile.open('cifar-10-python.tar.gz') as tar:\n",
    "        tar.extractall()\n",
    "        tar.close()\n",
    "\n",
    "\n",
    "tests.test_folder_path(cifar10_dataset_folder_path)"
   ]
  },
  {
   "cell_type": "markdown",
   "metadata": {
    "deletable": true,
    "editable": true
   },
   "source": [
    "## Explore the Data\n",
    "The dataset is broken into batches to prevent your machine from running out of memory.  The CIFAR-10 dataset consists of 5 batches, named `data_batch_1`, `data_batch_2`, etc.. Each batch contains the labels and images that are one of the following:\n",
    "* airplane\n",
    "* automobile\n",
    "* bird\n",
    "* cat\n",
    "* deer\n",
    "* dog\n",
    "* frog\n",
    "* horse\n",
    "* ship\n",
    "* truck\n",
    "\n",
    "Understanding a dataset is part of making predictions on the data.  Play around with the code cell below by changing the `batch_id` and `sample_id`. The `batch_id` is the id for a batch (1-5). The `sample_id` is the id for a image and label pair in the batch.\n",
    "\n",
    "Ask yourself \"What are all possible labels?\", \"What is the range of values for the image data?\", \"Are the labels in order or random?\".  Answers to questions like these will help you preprocess the data and end up with better predictions."
   ]
  },
  {
   "cell_type": "code",
   "execution_count": 98,
   "metadata": {
    "collapsed": false,
    "deletable": true,
    "editable": true
   },
   "outputs": [
    {
     "name": "stdout",
     "output_type": "stream",
     "text": [
      "\n",
      "Stats of batch 2:\n",
      "Samples: 10000\n",
      "Label Counts: {0: 984, 1: 1007, 2: 1010, 3: 995, 4: 1010, 5: 988, 6: 1008, 7: 1026, 8: 987, 9: 985}\n",
      "First 20 Labels: [1, 6, 6, 8, 8, 3, 4, 6, 0, 6, 0, 3, 6, 6, 5, 4, 8, 3, 2, 6]\n",
      "\n",
      "Example of Image 6:\n",
      "Image - Min Value: 0 Max Value: 235\n",
      "Image - Shape: (32, 32, 3)\n",
      "Label - Label Id: 4 Name: deer\n"
     ]
    },
    {
     "data": {
      "image/png": "[encoded data removed]",
      "text/plain": [
       "<matplotlib.figure.Figure at 0x7f2e732111d0>"
      ]
     },
     "metadata": {
      "image/png": {
       "height": 250,
       "width": 253
      }
     },
     "output_type": "display_data"
    }
   ],
   "source": [
    "%matplotlib inline\n",
    "%config InlineBackend.figure_format = 'retina'\n",
    "\n",
    "import helper\n",
    "import numpy as np\n",
    "\n",
    "# Explore the dataset\n",
    "batch_id = 2\n",
    "sample_id = 6\n",
    "helper.display_stats(cifar10_dataset_folder_path, batch_id, sample_id)"
   ]
  },
  {
   "cell_type": "markdown",
   "metadata": {
    "deletable": true,
    "editable": true
   },
   "source": [
    "## Implement Preprocess Functions\n",
    "### Normalize\n",
    "In the cell below, implement the `normalize` function to take in image data, `x`, and return it as a normalized Numpy array. The values should be in the range of 0 to 1, inclusive.  The return object should be the same shape as `x`."
   ]
  },
  {
   "cell_type": "code",
   "execution_count": 99,
   "metadata": {
    "collapsed": false,
    "deletable": true,
    "editable": true
   },
   "outputs": [
    {
     "name": "stdout",
     "output_type": "stream",
     "text": [
      "Tests Passed\n"
     ]
    }
   ],
   "source": [
    "\n",
    "def normalize(x):\n",
    "    \"\"\"\n",
    "    Normalize a list of sample image data in the range of 0 to 1\n",
    "    : x: List of image data.  The image shape is (32, 32, 3)\n",
    "    : return: Numpy array of normalize data\n",
    "    \"\"\"\n",
    "    x = x.astype('float32')\n",
    "    x /= 255.0\n",
    "    return x\n",
    "\n",
    "\"\"\"\n",
    "DON'T MODIFY ANYTHING IN THIS CELL THAT IS BELOW THIS LINE\n",
    "\"\"\"\n",
    "tests.test_normalize(normalize)"
   ]
  },
  {
   "cell_type": "markdown",
   "metadata": {
    "deletable": true,
    "editable": true
   },
   "source": [
    "### One-hot encode\n",
    "Just like the previous code cell, you'll be implementing a function for preprocessing.  This time, you'll implement the `one_hot_encode` function. The input, `x`, are a list of labels.  Implement the function to return the list of labels as One-Hot encoded Numpy array.  The possible values for labels are 0 to 9. The one-hot encoding function should return the same encoding for each value between each call to `one_hot_encode`.  Make sure to save the map of encodings outside the function.\n",
    "\n",
    "Hint: Don't reinvent the wheel."
   ]
  },
  {
   "cell_type": "code",
   "execution_count": 100,
   "metadata": {
    "collapsed": false,
    "deletable": true,
    "editable": true
   },
   "outputs": [
    {
     "name": "stdout",
     "output_type": "stream",
     "text": [
      "Tests Passed\n"
     ]
    }
   ],
   "source": [
    "def one_hot_encode(x):\n",
    "    \"\"\"\n",
    "    One hot encode a list of sample labels. Return a one-hot encoded vector for each label.\n",
    "    : x: List of sample Labels\n",
    "    : return: Numpy array of one-hot encoded labels\n",
    "    \"\"\"\n",
    "    # TODO: Implement Function\n",
    "    encoded_vectors = np.zeros((len(x), 10))\n",
    "    for i in range(len(x)):\n",
    "        encoded_vectors[i][x[i]] = 1.0\n",
    "    return encoded_vectors\n",
    "\n",
    "\n",
    "\"\"\"\n",
    "DON'T MODIFY ANYTHING IN THIS CELL THAT IS BELOW THIS LINE\n",
    "\"\"\"\n",
    "tests.test_one_hot_encode(one_hot_encode)"
   ]
  },
  {
   "cell_type": "markdown",
   "metadata": {
    "deletable": true,
    "editable": true
   },
   "source": [
    "### Randomize Data\n",
    "As you saw from exploring the data above, the order of the samples are randomized.  It doesn't hurt to randomize it again, but you don't need to for this dataset."
   ]
  },
  {
   "cell_type": "markdown",
   "metadata": {
    "deletable": true,
    "editable": true
   },
   "source": [
    "## Preprocess all the data and save it\n",
    "Running the code cell below will preprocess all the CIFAR-10 data and save it to file. The code below also uses 10% of the training data for validation."
   ]
  },
  {
   "cell_type": "code",
   "execution_count": 101,
   "metadata": {
    "collapsed": false,
    "deletable": true,
    "editable": true
   },
   "outputs": [
    {
     "data": {
      "text/plain": [
       "\"\\nDON'T MODIFY ANYTHING IN THIS CELL\\n\""
      ]
     },
     "execution_count": 101,
     "metadata": {},
     "output_type": "execute_result"
    }
   ],
   "source": [
    "\"\"\"\n",
    "DON'T MODIFY ANYTHING IN THIS CELL\n",
    "\"\"\"\n",
    "# Preprocess Training, Validation, and Testing Data\n",
    "helper.preprocess_and_save_data(cifar10_dataset_folder_path, normalize, one_hot_encode)"
   ]
  },
  {
   "cell_type": "markdown",
   "metadata": {
    "deletable": true,
    "editable": true
   },
   "source": [
    "# Check Point\n",
    "This is your first checkpoint.  If you ever decide to come back to this notebook or have to restart the notebook, you can start from here.  The preprocessed data has been saved to disk."
   ]
  },
  {
   "cell_type": "code",
   "execution_count": 102,
   "metadata": {
    "collapsed": true,
    "deletable": true,
    "editable": true
   },
   "outputs": [],
   "source": [
    "\"\"\"\n",
    "DON'T MODIFY ANYTHING IN THIS CELL\n",
    "\"\"\"\n",
    "import pickle\n",
    "import problem_unittests as tests\n",
    "import helper\n",
    "\n",
    "# Load the Preprocessed Validation data\n",
    "valid_features, valid_labels = pickle.load(open('preprocess_validation.p', mode='rb'))"
   ]
  },
  {
   "cell_type": "markdown",
   "metadata": {
    "deletable": true,
    "editable": true
   },
   "source": [
    "## Build the network\n",
    "For the neural network, you'll build each layer into a function.  Most of the code you've seen has been outside of functions. To test your code more thoroughly, we require that you put each layer in a function.  This allows us to give you better feedback and test for simple mistakes using our unittests before you submit your project.\n",
    "\n",
    "If you're finding it hard to dedicate enough time for this course a week, we've provided a small shortcut to this part of the project. In the next couple of problems, you'll have the option to use [TensorFlow Layers](https://www.tensorflow.org/api_docs/python/tf/layers) or [TensorFlow Layers (contrib)](https://www.tensorflow.org/api_guides/python/contrib.layers) to build each layer, except \"Convolutional & Max Pooling\" layer.  TF Layers is similar to Keras's and TFLearn's abstraction to layers, so it's easy to pickup.\n",
    "\n",
    "If you would like to get the most of this course, try to solve all the problems without TF Layers.  Let's begin!\n",
    "### Input\n",
    "The neural network needs to read the image data, one-hot encoded labels, and dropout keep probability. Implement the following functions\n",
    "* Implement `neural_net_image_input`\n",
    " * Return a [TF Placeholder](https://www.tensorflow.org/api_docs/python/tf/placeholder)\n",
    " * Set the shape using `image_shape` with batch size set to `None`.\n",
    " * Name the TensorFlow placeholder \"x\" using the TensorFlow `name` parameter in the [TF Placeholder](https://www.tensorflow.org/api_docs/python/tf/placeholder).\n",
    "* Implement `neural_net_label_input`\n",
    " * Return a [TF Placeholder](https://www.tensorflow.org/api_docs/python/tf/placeholder)\n",
    " * Set the shape using `n_classes` with batch size set to `None`.\n",
    " * Name the TensorFlow placeholder \"y\" using the TensorFlow `name` parameter in the [TF Placeholder](https://www.tensorflow.org/api_docs/python/tf/placeholder).\n",
    "* Implement `neural_net_keep_prob_input`\n",
    " * Return a [TF Placeholder](https://www.tensorflow.org/api_docs/python/tf/placeholder) for dropout keep probability.\n",
    " * Name the TensorFlow placeholder \"keep_prob\" using the TensorFlow `name` parameter in the [TF Placeholder](https://www.tensorflow.org/api_docs/python/tf/placeholder).\n",
    "\n",
    "These names will be used at the end of the project to load your saved model.\n",
    "\n",
    "Note: `None` for shapes in TensorFlow allow for a dynamic size."
   ]
  },
  {
   "cell_type": "code",
   "execution_count": 103,
   "metadata": {
    "collapsed": false,
    "deletable": true,
    "editable": true
   },
   "outputs": [
    {
     "name": "stdout",
     "output_type": "stream",
     "text": [
      "Image Input Tests Passed.\n",
      "Label Input Tests Passed.\n",
      "Keep Prob Tests Passed.\n"
     ]
    }
   ],
   "source": [
    "import tensorflow as tf\n",
    "\n",
    "def neural_net_image_input(image_shape):\n",
    "    \"\"\"\n",
    "    Return a Tensor for a bach of image input\n",
    "    : image_shape: Shape of the images\n",
    "    : return: Tensor for image input.\n",
    "    \"\"\"\n",
    "    # TODO: Implement Function\n",
    "    return tf.placeholder(tf.float32, [None, image_shape[0], image_shape[1], image_shape[2]], name='x')\n",
    "\n",
    "\n",
    "def neural_net_label_input(n_classes):\n",
    "    \"\"\"\n",
    "    Return a Tensor for a batch of label input\n",
    "    : n_classes: Number of classes\n",
    "    : return: Tensor for label input.\n",
    "    \"\"\"\n",
    "    # TODO: Implement Function\n",
    "    return tf.placeholder(tf.float32, [None, n_classes], name='y')\n",
    "\n",
    "\n",
    "def neural_net_keep_prob_input():\n",
    "    \"\"\"\n",
    "    Return a Tensor for keep probability\n",
    "    : return: Tensor for keep probability.\n",
    "    \"\"\"\n",
    "    # TODO: Implement Function\n",
    "    return tf.placeholder(tf.float32, name='keep_prob')\n",
    "\n",
    "\n",
    "\"\"\"\n",
    "DON'T MODIFY ANYTHING IN THIS CELL THAT IS BELOW THIS LINE\n",
    "\"\"\"\n",
    "tf.reset_default_graph()\n",
    "tests.test_nn_image_inputs(neural_net_image_input)\n",
    "tests.test_nn_label_inputs(neural_net_label_input)\n",
    "tests.test_nn_keep_prob_inputs(neural_net_keep_prob_input)"
   ]
  },
  {
   "cell_type": "markdown",
   "metadata": {
    "deletable": true,
    "editable": true
   },
   "source": [
    "### Convolution and Max Pooling Layer\n",
    "Convolution layers have a lot of success with images. For this code cell, you should implement the function `conv2d_maxpool` to apply convolution then max pooling:\n",
    "* Create the weight and bias using `conv_ksize`, `conv_num_outputs` and the shape of `x_tensor`.\n",
    "* Apply a convolution to `x_tensor` using weight and `conv_strides`.\n",
    " * We recommend you use same padding, but you're welcome to use any padding.\n",
    "* Add bias\n",
    "* Add a nonlinear activation to the convolution.\n",
    "* Apply Max Pooling using `pool_ksize` and `pool_strides`.\n",
    " * We recommend you use same padding, but you're welcome to use any padding.\n",
    "\n",
    "Note: You **can't** use [TensorFlow Layers](https://www.tensorflow.org/api_docs/python/tf/layers) or [TensorFlow Layers (contrib)](https://www.tensorflow.org/api_guides/python/contrib.layers) for this layer.  You're free to use any TensorFlow package for all the other layers."
   ]
  },
  {
   "cell_type": "code",
   "execution_count": 104,
   "metadata": {
    "collapsed": false,
    "deletable": true,
    "editable": true
   },
   "outputs": [
    {
     "name": "stdout",
     "output_type": "stream",
     "text": [
      "Tests Passed\n"
     ]
    }
   ],
   "source": [
    "def conv2d_maxpool(x_tensor, conv_num_outputs, conv_ksize, conv_strides, pool_ksize, pool_strides):\n",
    "    \"\"\"\n",
    "    Apply convolution then max pooling to x_tensor\n",
    "    :param x_tensor: TensorFlow Tensor\n",
    "    :param conv_num_outputs: Number of outputs for the convolutional layer\n",
    "    :param conv_ksize: kernal size 2-D Tuple for the convolutional layer\n",
    "    :param conv_strides: Stride 2-D Tuple for convolution\n",
    "    :param pool_ksize: kernal size 2-D Tuple for pool\n",
    "    :param pool_strides: Stride 2-D Tuple for pool\n",
    "    : return: A tensor that represents convolution and max pooling of x_tensor\n",
    "    \"\"\"\n",
    "    # TODO: Implement Function\n",
    "    padding = 'SAME'\n",
    "    filter_height = conv_ksize[0]\n",
    "    filter_width = conv_ksize[1]\n",
    "    channels = x_tensor.get_shape().as_list()[3]\n",
    "    \n",
    "    weights = tf.Variable(tf.truncated_normal([filter_height, filter_width, channels, conv_num_outputs], stddev=0.1))\n",
    "    bias = tf.Variable(tf.zeros([conv_num_outputs]))\n",
    "    conv_stride_x = conv_strides[0]\n",
    "    conv_stride_y = conv_strides[1]\n",
    "    \n",
    "    layer = tf.nn.conv2d(x_tensor, weights, strides=[1, conv_stride_x, conv_stride_y, 1], padding=padding)\n",
    "    layer = tf.nn.bias_add(layer, bias)\n",
    "    layer = tf.nn.relu(layer)\n",
    "    \n",
    "    layer = tf.nn.max_pool(\n",
    "        layer,\n",
    "        ksize=[1, pool_ksize[0], pool_ksize[1], 1],\n",
    "        strides=[1, pool_strides[0], pool_strides[1], 1],\n",
    "        padding=padding)\n",
    "    return layer \n",
    "\n",
    "\n",
    "\"\"\"\n",
    "DON'T MODIFY ANYTHING IN THIS CELL THAT IS BELOW THIS LINE\n",
    "\"\"\"\n",
    "tests.test_con_pool(conv2d_maxpool)"
   ]
  },
  {
   "cell_type": "markdown",
   "metadata": {
    "deletable": true,
    "editable": true
   },
   "source": [
    "### Flatten Layer\n",
    "Implement the `flatten` function to change the dimension of `x_tensor` from a 4-D tensor to a 2-D tensor.  The output should be the shape (*Batch Size*, *Flattened Image Size*). You can use [TensorFlow Layers](https://www.tensorflow.org/api_docs/python/tf/layers) or [TensorFlow Layers (contrib)](https://www.tensorflow.org/api_guides/python/contrib.layers) for this layer."
   ]
  },
  {
   "cell_type": "code",
   "execution_count": 105,
   "metadata": {
    "collapsed": false,
    "deletable": true,
    "editable": true
   },
   "outputs": [
    {
     "name": "stdout",
     "output_type": "stream",
     "text": [
      "Tests Passed\n"
     ]
    }
   ],
   "source": [
    "def flatten(x_tensor):\n",
    "    \"\"\"\n",
    "    Flatten x_tensor to (Batch Size, Flattened Image Size)\n",
    "    : x_tensor: A tensor of size (Batch Size, ...), where ... are the image dimensions.\n",
    "    : return: A tensor of size (Batch Size, Flattened Image Size).\n",
    "    \"\"\"\n",
    "    # TODO: Implement Function\n",
    "    shape = x_tensor.get_shape().as_list()\n",
    "    dim = np.prod(shape[1:])\n",
    "    x2 = tf.reshape(x_tensor, [-1, dim])\n",
    "    return x2\n",
    "\n",
    "\n",
    "\"\"\"\n",
    "DON'T MODIFY ANYTHING IN THIS CELL THAT IS BELOW THIS LINE\n",
    "\"\"\"\n",
    "tests.test_flatten(flatten)"
   ]
  },
  {
   "cell_type": "markdown",
   "metadata": {
    "deletable": true,
    "editable": true
   },
   "source": [
    "### Fully-Connected Layer\n",
    "Implement the `fully_conn` function to apply a fully connected layer to `x_tensor` with the shape (*Batch Size*, *num_outputs*). You can use [TensorFlow Layers](https://www.tensorflow.org/api_docs/python/tf/layers) or [TensorFlow Layers (contrib)](https://www.tensorflow.org/api_guides/python/contrib.layers) for this layer."
   ]
  },
  {
   "cell_type": "code",
   "execution_count": 106,
   "metadata": {
    "collapsed": false,
    "deletable": true,
    "editable": true
   },
   "outputs": [
    {
     "name": "stdout",
     "output_type": "stream",
     "text": [
      "Tests Passed\n"
     ]
    }
   ],
   "source": [
    "def fully_conn(x_tensor, num_outputs):\n",
    "    \"\"\"\n",
    "    Apply a fully connected layer to x_tensor using weight and bias\n",
    "    : x_tensor: A 2-D tensor where the first dimension is batch size.\n",
    "    : num_outputs: The number of output that the new tensor should be.\n",
    "    : return: A 2-D tensor where the second dimension is num_outputs.\n",
    "    \"\"\"\n",
    "    # TODO: Implement Function\n",
    "    shape = x_tensor.get_shape().as_list()\n",
    "    weight = tf.Variable(tf.truncated_normal([shape[1], num_outputs],stddev=0.1))\n",
    "    bias = tf.Variable(tf.zeros([num_outputs]))\n",
    "    layer = tf.add(tf.matmul(x_tensor, weight), bias)\n",
    "    return layer\n",
    "\n",
    "\n",
    "\"\"\"\n",
    "DON'T MODIFY ANYTHING IN THIS CELL THAT IS BELOW THIS LINE\n",
    "\"\"\"\n",
    "tests.test_fully_conn(fully_conn)"
   ]
  },
  {
   "cell_type": "markdown",
   "metadata": {
    "deletable": true,
    "editable": true
   },
   "source": [
    "### Output Layer\n",
    "Implement the `output` function to apply a fully connected layer to `x_tensor` with the shape (*Batch Size*, *num_outputs*). You can use [TensorFlow Layers](https://www.tensorflow.org/api_docs/python/tf/layers) or [TensorFlow Layers (contrib)](https://www.tensorflow.org/api_guides/python/contrib.layers) for this layer.\n",
    "\n",
    "Note: Activation, softmax, or cross entropy shouldn't be applied to this."
   ]
  },
  {
   "cell_type": "code",
   "execution_count": 107,
   "metadata": {
    "collapsed": false,
    "deletable": true,
    "editable": true
   },
   "outputs": [
    {
     "name": "stdout",
     "output_type": "stream",
     "text": [
      "Tests Passed\n"
     ]
    }
   ],
   "source": [
    "def output(x_tensor, num_outputs):\n",
    "    \"\"\"\n",
    "    Apply a output layer to x_tensor using weight and bias\n",
    "    : x_tensor: A 2-D tensor where the first dimension is batch size.\n",
    "    : num_outputs: The number of output that the new tensor should be.\n",
    "    : return: A 2-D tensor where the second dimension is num_outputs.\n",
    "    \"\"\"\n",
    "    # TODO: Implement Function\n",
    "    shape = x_tensor.get_shape().as_list()\n",
    "    weight = tf.Variable(tf.truncated_normal([shape[1], num_outputs],stddev=0.1))\n",
    "    bias = tf.Variable(tf.zeros([num_outputs]))\n",
    "    layer = tf.add(tf.matmul(x_tensor, weight), bias)\n",
    "    return layer\n",
    "\n",
    "\n",
    "\"\"\"\n",
    "DON'T MODIFY ANYTHING IN THIS CELL THAT IS BELOW THIS LINE\n",
    "\"\"\"\n",
    "tests.test_output(output)"
   ]
  },
  {
   "cell_type": "markdown",
   "metadata": {
    "deletable": true,
    "editable": true
   },
   "source": [
    "### Create Convolutional Model\n",
    "Implement the function `conv_net` to create a convolutional neural network model. The function takes in a batch of images, `x`, and outputs logits.  Use the layers you created above to create this model:\n",
    "\n",
    "* Apply 1, 2, or 3 Convolution and Max Pool layers\n",
    "* Apply a Flatten Layer\n",
    "* Apply 1, 2, or 3 Fully Connected Layers\n",
    "* Apply an Output Layer\n",
    "* Return the output\n",
    "* Apply [TensorFlow's Dropout](https://www.tensorflow.org/api_docs/python/tf/nn/dropout) to one or more layers in the model using `keep_prob`. "
   ]
  },
  {
   "cell_type": "code",
   "execution_count": 108,
   "metadata": {
    "collapsed": false,
    "deletable": true,
    "editable": true
   },
   "outputs": [
    {
     "name": "stdout",
     "output_type": "stream",
     "text": [
      "Neural Network Built!\n"
     ]
    }
   ],
   "source": [
    "def conv_net(x, keep_prob):\n",
    "    \"\"\"\n",
    "    Create a convolutional neural network model\n",
    "    : x: Placeholder tensor that holds image data.\n",
    "    : keep_prob: Placeholder tensor that hold dropout keep probability.\n",
    "    : return: Tensor that represents logits\n",
    "    \"\"\"\n",
    "    # TODO: Apply 1, 2, or 3 Convolution and Max Pool layers\n",
    "    #    Play around with different number of outputs, kernel size and stride\n",
    "    # Function Definition from Above:\n",
    "    #    conv2d_maxpool(x_tensor, conv_num_outputs, conv_ksize, conv_strides, pool_ksize, pool_strides)\n",
    "    conv1 = conv2d_maxpool(x, 10, (2,2), (1,1), (2,2), (2,2))\n",
    "    \n",
    "    conv2 = conv2d_maxpool(conv1, 64, (2,2), (1,1), (2,2), (2,2))\n",
    "    \n",
    "    conv3 = conv2d_maxpool(conv2, 64, (2,2), (2,2), (2,2), (2,2))\n",
    "    \n",
    "\n",
    "    # TODO: Apply a Flatten Layer\n",
    "    # Function Definition from Above:\n",
    "    #   flatten(x_tensor)\n",
    "    flatten_layer = flatten(conv3)\n",
    "    \n",
    "\n",
    "    # TODO: Apply 1, 2, or 3 Fully Connected Layers\n",
    "    #    Play around with different number of outputs\n",
    "    # Function Definition from Above:\n",
    "    #   fully_conn(x_tensor, num_outputs)\n",
    "    fc1 = fully_conn(flatten_layer, 128)\n",
    "    fc1 = tf.nn.relu(fc1)\n",
    "    fc1 = tf.nn.dropout(fc1, keep_prob)\n",
    "    \n",
    "    fc2 = fully_conn(fc1, 64)\n",
    "\n",
    "    \n",
    "    \n",
    "    # TODO: Apply an Output Layer\n",
    "    #    Set this to the number of classes\n",
    "    # Function Definition from Above:\n",
    "    #   output(x_tensor, num_outputs)\n",
    "    num_outputs = 10\n",
    "    out = output(fc2, num_outputs)\n",
    "    \n",
    "    # TODO: return output\n",
    "    return out\n",
    "\n",
    "\n",
    "\"\"\"\n",
    "DON'T MODIFY ANYTHING IN THIS CELL THAT IS BELOW THIS LINE\n",
    "\"\"\"\n",
    "\n",
    "##############################\n",
    "## Build the Neural Network ##\n",
    "##############################\n",
    "\n",
    "# Remove previous weights, bias, inputs, etc..\n",
    "tf.reset_default_graph()\n",
    "\n",
    "# Inputs\n",
    "x = neural_net_image_input((32, 32, 3))\n",
    "y = neural_net_label_input(10)\n",
    "keep_prob = neural_net_keep_prob_input()\n",
    "\n",
    "# Model\n",
    "logits = conv_net(x, keep_prob)\n",
    "\n",
    "# Name logits Tensor, so that is can be loaded from disk after training\n",
    "logits = tf.identity(logits, name='logits')\n",
    "\n",
    "# Loss and Optimizer\n",
    "cost = tf.reduce_mean(tf.nn.softmax_cross_entropy_with_logits(logits=logits, labels=y))\n",
    "optimizer = tf.train.AdamOptimizer().minimize(cost)\n",
    "\n",
    "# Accuracy\n",
    "correct_pred = tf.equal(tf.argmax(logits, 1), tf.argmax(y, 1))\n",
    "accuracy = tf.reduce_mean(tf.cast(correct_pred, tf.float32), name='accuracy')\n",
    "\n",
    "tests.test_conv_net(conv_net)"
   ]
  },
  {
   "cell_type": "markdown",
   "metadata": {
    "deletable": true,
    "editable": true
   },
   "source": [
    "## Train the Neural Network\n",
    "### Single Optimization\n",
    "Implement the function `train_neural_network` to do a single optimization.  The optimization should use `optimizer` to optimize in `session` with a `feed_dict` of the following:\n",
    "* `x` for image input\n",
    "* `y` for labels\n",
    "* `keep_prob` for keep probability for dropout\n",
    "\n",
    "This function will be called for each batch, so `tf.global_variables_initializer()` has already been called.\n",
    "\n",
    "Note: Nothing needs to be returned. This function is only optimizing the neural network."
   ]
  },
  {
   "cell_type": "code",
   "execution_count": 109,
   "metadata": {
    "collapsed": false,
    "deletable": true,
    "editable": true
   },
   "outputs": [
    {
     "name": "stdout",
     "output_type": "stream",
     "text": [
      "Tests Passed\n"
     ]
    }
   ],
   "source": [
    "def train_neural_network(session, optimizer, keep_probability, feature_batch, label_batch):\n",
    "    \"\"\"\n",
    "    Optimize the session on a batch of images and labels\n",
    "    : session: Current TensorFlow session\n",
    "    : optimizer: TensorFlow optimizer function\n",
    "    : keep_probability: keep probability\n",
    "    : feature_batch: Batch of Numpy image data\n",
    "    : label_batch: Batch of Numpy label data\n",
    "    \"\"\"\n",
    "    # TODO: Implement Function\n",
    "    session.run(optimizer, feed_dict={\n",
    "                x: feature_batch,\n",
    "                y: label_batch,\n",
    "                keep_prob: keep_probability})\n",
    "\n",
    "\n",
    "\"\"\"\n",
    "DON'T MODIFY ANYTHING IN THIS CELL THAT IS BELOW THIS LINE\n",
    "\"\"\"\n",
    "tests.test_train_nn(train_neural_network)"
   ]
  },
  {
   "cell_type": "markdown",
   "metadata": {
    "deletable": true,
    "editable": true
   },
   "source": [
    "### Show Stats\n",
    "Implement the function `print_stats` to print loss and validation accuracy.  Use the global variables `valid_features` and `valid_labels` to calculate validation accuracy.  Use a keep probability of `1.0` to calculate the loss and validation accuracy."
   ]
  },
  {
   "cell_type": "code",
   "execution_count": 110,
   "metadata": {
    "collapsed": false,
    "deletable": true,
    "editable": true
   },
   "outputs": [],
   "source": [
    "def print_stats(session, feature_batch, label_batch, cost, accuracy):\n",
    "    \"\"\"\n",
    "    Print information about loss and validation accuracy\n",
    "    : session: Current TensorFlow session\n",
    "    : feature_batch: Batch of Numpy image data\n",
    "    : label_batch: Batch of Numpy label data\n",
    "    : cost: TensorFlow cost function\n",
    "    : accuracy: TensorFlow accuracy function\n",
    "    \"\"\"\n",
    "    # TODO: Implement Function\n",
    "    loss = sess.run(cost, feed_dict={\n",
    "                x: feature_batch,\n",
    "                y: label_batch,\n",
    "                keep_prob: 1.})\n",
    "    acc = sess.run(accuracy, feed_dict={\n",
    "        x: valid_features,\n",
    "        y: valid_labels,\n",
    "        keep_prob: 1.})\n",
    "\n",
    "    print('Loss: {:>10.4f} Validation Accuracy: {:.6f}'.format(loss, acc))"
   ]
  },
  {
   "cell_type": "code",
   "execution_count": 111,
   "metadata": {
    "collapsed": false
   },
   "outputs": [
    {
     "name": "stdout",
     "output_type": "stream",
     "text": [
      "(5000, 32, 32, 3)\n"
     ]
    },
    {
     "data": {
      "text/plain": [
       "(5000, 10)"
      ]
     },
     "execution_count": 111,
     "metadata": {},
     "output_type": "execute_result"
    }
   ],
   "source": [
    "print(valid_features.shape)\n",
    "valid_labels .shape"
   ]
  },
  {
   "cell_type": "markdown",
   "metadata": {
    "deletable": true,
    "editable": true
   },
   "source": [
    "### Hyperparameters\n",
    "Tune the following parameters:\n",
    "* Set `epochs` to the number of iterations until the network stops learning or start overfitting\n",
    "* Set `batch_size` to the highest number that your machine has memory for.  Most people set them to common sizes of memory:\n",
    " * 64\n",
    " * 128\n",
    " * 256\n",
    " * ...\n",
    "* Set `keep_probability` to the probability of keeping a node using dropout"
   ]
  },
  {
   "cell_type": "code",
   "execution_count": 112,
   "metadata": {
    "collapsed": true,
    "deletable": true,
    "editable": true
   },
   "outputs": [],
   "source": [
    "# TODO: Tune Parameters\n",
    "epochs = 100\n",
    "batch_size = 256\n",
    "keep_probability = 0.5"
   ]
  },
  {
   "cell_type": "markdown",
   "metadata": {
    "deletable": true,
    "editable": true
   },
   "source": [
    "### Train on a Single CIFAR-10 Batch\n",
    "Instead of training the neural network on all the CIFAR-10 batches of data, let's use a single batch. This should save time while you iterate on the model to get a better accuracy.  Once the final validation accuracy is 50% or greater, run the model on all the data in the next section."
   ]
  },
  {
   "cell_type": "code",
   "execution_count": 113,
   "metadata": {
    "collapsed": false,
    "deletable": true,
    "editable": true
   },
   "outputs": [
    {
     "name": "stdout",
     "output_type": "stream",
     "text": [
      "Checking the Training on a Single Batch...\n",
      "Epoch  1, CIFAR-10 Batch 1:  Loss:     2.1668 Validation Accuracy: 0.190400\n",
      "Epoch  2, CIFAR-10 Batch 1:  Loss:     2.0879 Validation Accuracy: 0.277600\n",
      "Epoch  3, CIFAR-10 Batch 1:  Loss:     1.9906 Validation Accuracy: 0.319600\n",
      "Epoch  4, CIFAR-10 Batch 1:  Loss:     1.9349 Validation Accuracy: 0.327200\n",
      "Epoch  5, CIFAR-10 Batch 1:  Loss:     1.8925 Validation Accuracy: 0.352400\n",
      "Epoch  6, CIFAR-10 Batch 1:  Loss:     1.8778 Validation Accuracy: 0.368000\n",
      "Epoch  7, CIFAR-10 Batch 1:  Loss:     1.8338 Validation Accuracy: 0.379000\n",
      "Epoch  8, CIFAR-10 Batch 1:  Loss:     1.8070 Validation Accuracy: 0.392200\n",
      "Epoch  9, CIFAR-10 Batch 1:  Loss:     1.7747 Validation Accuracy: 0.404600\n",
      "Epoch 10, CIFAR-10 Batch 1:  Loss:     1.7060 Validation Accuracy: 0.416200\n",
      "Epoch 11, CIFAR-10 Batch 1:  Loss:     1.6796 Validation Accuracy: 0.426600\n",
      "Epoch 12, CIFAR-10 Batch 1:  Loss:     1.6307 Validation Accuracy: 0.432800\n",
      "Epoch 13, CIFAR-10 Batch 1:  Loss:     1.6372 Validation Accuracy: 0.442800\n",
      "Epoch 14, CIFAR-10 Batch 1:  Loss:     1.5640 Validation Accuracy: 0.440400\n",
      "Epoch 15, CIFAR-10 Batch 1:  Loss:     1.4988 Validation Accuracy: 0.458400\n",
      "Epoch 16, CIFAR-10 Batch 1:  Loss:     1.4409 Validation Accuracy: 0.465400\n",
      "Epoch 17, CIFAR-10 Batch 1:  Loss:     1.4075 Validation Accuracy: 0.476200\n",
      "Epoch 18, CIFAR-10 Batch 1:  Loss:     1.3523 Validation Accuracy: 0.483400\n",
      "Epoch 19, CIFAR-10 Batch 1:  Loss:     1.3143 Validation Accuracy: 0.479000\n",
      "Epoch 20, CIFAR-10 Batch 1:  Loss:     1.2647 Validation Accuracy: 0.491000\n",
      "Epoch 21, CIFAR-10 Batch 1:  Loss:     1.1838 Validation Accuracy: 0.494200\n",
      "Epoch 22, CIFAR-10 Batch 1:  Loss:     1.1776 Validation Accuracy: 0.499200\n",
      "Epoch 23, CIFAR-10 Batch 1:  Loss:     1.0935 Validation Accuracy: 0.506200\n",
      "Epoch 24, CIFAR-10 Batch 1:  Loss:     1.0716 Validation Accuracy: 0.502400\n",
      "Epoch 25, CIFAR-10 Batch 1:  Loss:     1.0165 Validation Accuracy: 0.508400\n",
      "Epoch 26, CIFAR-10 Batch 1:  Loss:     0.9678 Validation Accuracy: 0.507000\n",
      "Epoch 27, CIFAR-10 Batch 1:  Loss:     0.9403 Validation Accuracy: 0.512400\n",
      "Epoch 28, CIFAR-10 Batch 1:  Loss:     0.9126 Validation Accuracy: 0.516200\n",
      "Epoch 29, CIFAR-10 Batch 1:  Loss:     0.8509 Validation Accuracy: 0.516600\n",
      "Epoch 30, CIFAR-10 Batch 1:  Loss:     0.8221 Validation Accuracy: 0.523800\n",
      "Epoch 31, CIFAR-10 Batch 1:  Loss:     0.8005 Validation Accuracy: 0.521200\n",
      "Epoch 32, CIFAR-10 Batch 1:  Loss:     0.7633 Validation Accuracy: 0.524200\n",
      "Epoch 33, CIFAR-10 Batch 1:  Loss:     0.7844 Validation Accuracy: 0.512400\n",
      "Epoch 34, CIFAR-10 Batch 1:  Loss:     0.7167 Validation Accuracy: 0.529400\n",
      "Epoch 35, CIFAR-10 Batch 1:  Loss:     0.6793 Validation Accuracy: 0.533000\n",
      "Epoch 36, CIFAR-10 Batch 1:  Loss:     0.7047 Validation Accuracy: 0.537600\n",
      "Epoch 37, CIFAR-10 Batch 1:  Loss:     0.6701 Validation Accuracy: 0.528800\n",
      "Epoch 38, CIFAR-10 Batch 1:  Loss:     0.6409 Validation Accuracy: 0.543200\n",
      "Epoch 39, CIFAR-10 Batch 1:  Loss:     0.6068 Validation Accuracy: 0.541600\n",
      "Epoch 40, CIFAR-10 Batch 1:  Loss:     0.5837 Validation Accuracy: 0.539400\n",
      "Epoch 41, CIFAR-10 Batch 1:  Loss:     0.5768 Validation Accuracy: 0.537000\n",
      "Epoch 42, CIFAR-10 Batch 1:  Loss:     0.5658 Validation Accuracy: 0.539800\n",
      "Epoch 43, CIFAR-10 Batch 1:  Loss:     0.5678 Validation Accuracy: 0.541600\n",
      "Epoch 44, CIFAR-10 Batch 1:  Loss:     0.5549 Validation Accuracy: 0.539400\n",
      "Epoch 45, CIFAR-10 Batch 1:  Loss:     0.5375 Validation Accuracy: 0.543800\n",
      "Epoch 46, CIFAR-10 Batch 1:  Loss:     0.5356 Validation Accuracy: 0.537800\n",
      "Epoch 47, CIFAR-10 Batch 1:  Loss:     0.4717 Validation Accuracy: 0.545000\n",
      "Epoch 48, CIFAR-10 Batch 1:  Loss:     0.4614 Validation Accuracy: 0.539800\n",
      "Epoch 49, CIFAR-10 Batch 1:  Loss:     0.4899 Validation Accuracy: 0.546600\n",
      "Epoch 50, CIFAR-10 Batch 1:  Loss:     0.4388 Validation Accuracy: 0.548600\n",
      "Epoch 51, CIFAR-10 Batch 1:  Loss:     0.4198 Validation Accuracy: 0.549800\n",
      "Epoch 52, CIFAR-10 Batch 1:  Loss:     0.4031 Validation Accuracy: 0.559400\n",
      "Epoch 53, CIFAR-10 Batch 1:  Loss:     0.3975 Validation Accuracy: 0.556600\n",
      "Epoch 54, CIFAR-10 Batch 1:  Loss:     0.3927 Validation Accuracy: 0.554200\n",
      "Epoch 55, CIFAR-10 Batch 1:  Loss:     0.4260 Validation Accuracy: 0.552400\n",
      "Epoch 56, CIFAR-10 Batch 1:  Loss:     0.3745 Validation Accuracy: 0.549800\n",
      "Epoch 57, CIFAR-10 Batch 1:  Loss:     0.3503 Validation Accuracy: 0.557800\n",
      "Epoch 58, CIFAR-10 Batch 1:  Loss:     0.3571 Validation Accuracy: 0.562400\n",
      "Epoch 59, CIFAR-10 Batch 1:  Loss:     0.3480 Validation Accuracy: 0.562400\n",
      "Epoch 60, CIFAR-10 Batch 1:  Loss:     0.3312 Validation Accuracy: 0.561000\n",
      "Epoch 61, CIFAR-10 Batch 1:  Loss:     0.3416 Validation Accuracy: 0.560000\n",
      "Epoch 62, CIFAR-10 Batch 1:  Loss:     0.3237 Validation Accuracy: 0.557800\n",
      "Epoch 63, CIFAR-10 Batch 1:  Loss:     0.3169 Validation Accuracy: 0.558800\n",
      "Epoch 64, CIFAR-10 Batch 1:  Loss:     0.3067 Validation Accuracy: 0.557200\n",
      "Epoch 65, CIFAR-10 Batch 1:  Loss:     0.3026 Validation Accuracy: 0.558600\n",
      "Epoch 66, CIFAR-10 Batch 1:  Loss:     0.2944 Validation Accuracy: 0.556200\n",
      "Epoch 67, CIFAR-10 Batch 1:  Loss:     0.2721 Validation Accuracy: 0.555200\n",
      "Epoch 68, CIFAR-10 Batch 1:  Loss:     0.2790 Validation Accuracy: 0.547400\n",
      "Epoch 69, CIFAR-10 Batch 1:  Loss:     0.2574 Validation Accuracy: 0.551400\n",
      "Epoch 70, CIFAR-10 Batch 1:  Loss:     0.2700 Validation Accuracy: 0.551200\n",
      "Epoch 71, CIFAR-10 Batch 1:  Loss:     0.2575 Validation Accuracy: 0.554000\n",
      "Epoch 72, CIFAR-10 Batch 1:  Loss:     0.2624 Validation Accuracy: 0.563400\n",
      "Epoch 73, CIFAR-10 Batch 1:  Loss:     0.2757 Validation Accuracy: 0.555200\n",
      "Epoch 74, CIFAR-10 Batch 1:  Loss:     0.2659 Validation Accuracy: 0.548600\n",
      "Epoch 75, CIFAR-10 Batch 1:  Loss:     0.2394 Validation Accuracy: 0.554800\n",
      "Epoch 76, CIFAR-10 Batch 1:  Loss:     0.2697 Validation Accuracy: 0.544800\n",
      "Epoch 77, CIFAR-10 Batch 1:  Loss:     0.2839 Validation Accuracy: 0.529600\n",
      "Epoch 78, CIFAR-10 Batch 1:  Loss:     0.2630 Validation Accuracy: 0.540400\n",
      "Epoch 79, CIFAR-10 Batch 1:  Loss:     0.3026 Validation Accuracy: 0.531000\n",
      "Epoch 80, CIFAR-10 Batch 1:  Loss:     0.2667 Validation Accuracy: 0.542600\n",
      "Epoch 81, CIFAR-10 Batch 1:  Loss:     0.2490 Validation Accuracy: 0.540400\n",
      "Epoch 82, CIFAR-10 Batch 1:  Loss:     0.2455 Validation Accuracy: 0.532800\n",
      "Epoch 83, CIFAR-10 Batch 1:  Loss:     0.2488 Validation Accuracy: 0.539600\n",
      "Epoch 84, CIFAR-10 Batch 1:  Loss:     0.2382 Validation Accuracy: 0.540800\n",
      "Epoch 85, CIFAR-10 Batch 1:  Loss:     0.2767 Validation Accuracy: 0.521600\n",
      "Epoch 86, CIFAR-10 Batch 1:  Loss:     0.2573 Validation Accuracy: 0.532600\n",
      "Epoch 87, CIFAR-10 Batch 1:  Loss:     0.2197 Validation Accuracy: 0.554800\n",
      "Epoch 88, CIFAR-10 Batch 1:  Loss:     0.2078 Validation Accuracy: 0.555800\n",
      "Epoch 89, CIFAR-10 Batch 1:  Loss:     0.1940 Validation Accuracy: 0.549200\n",
      "Epoch 90, CIFAR-10 Batch 1:  Loss:     0.1802 Validation Accuracy: 0.555800\n",
      "Epoch 91, CIFAR-10 Batch 1:  Loss:     0.1710 Validation Accuracy: 0.550000\n",
      "Epoch 92, CIFAR-10 Batch 1:  Loss:     0.1785 Validation Accuracy: 0.540200\n",
      "Epoch 93, CIFAR-10 Batch 1:  Loss:     0.1669 Validation Accuracy: 0.555600\n",
      "Epoch 94, CIFAR-10 Batch 1:  Loss:     0.1668 Validation Accuracy: 0.538800\n",
      "Epoch 95, CIFAR-10 Batch 1:  Loss:     0.1519 Validation Accuracy: 0.553200\n",
      "Epoch 96, CIFAR-10 Batch 1:  Loss:     0.1440 Validation Accuracy: 0.558200\n",
      "Epoch 97, CIFAR-10 Batch 1:  Loss:     0.1452 Validation Accuracy: 0.562800\n",
      "Epoch 98, CIFAR-10 Batch 1:  Loss:     0.1348 Validation Accuracy: 0.558800\n",
      "Epoch 99, CIFAR-10 Batch 1:  Loss:     0.1330 Validation Accuracy: 0.560400\n",
      "Epoch 100, CIFAR-10 Batch 1:  Loss:     0.1296 Validation Accuracy: 0.548600\n"
     ]
    }
   ],
   "source": [
    "\"\"\"\n",
    "DON'T MODIFY ANYTHING IN THIS CELL\n",
    "\"\"\"\n",
    "print('Checking the Training on a Single Batch...')\n",
    "with tf.Session() as sess:\n",
    "    # Initializing the variables\n",
    "    sess.run(tf.global_variables_initializer())\n",
    "    \n",
    "    # Training cycle\n",
    "    for epoch in range(epochs):\n",
    "        batch_i = 1\n",
    "        for batch_features, batch_labels in helper.load_preprocess_training_batch(batch_i, batch_size):\n",
    "            train_neural_network(sess, optimizer, keep_probability, batch_features, batch_labels)\n",
    "        print('Epoch {:>2}, CIFAR-10 Batch {}:  '.format(epoch + 1, batch_i), end='')\n",
    "        print_stats(sess, batch_features, batch_labels, cost, accuracy)"
   ]
  },
  {
   "cell_type": "markdown",
   "metadata": {
    "deletable": true,
    "editable": true
   },
   "source": [
    "### Fully Train the Model\n",
    "Now that you got a good accuracy with a single CIFAR-10 batch, try it with all five batches."
   ]
  },
  {
   "cell_type": "code",
   "execution_count": 114,
   "metadata": {
    "collapsed": false,
    "deletable": true,
    "editable": true
   },
   "outputs": [
    {
     "name": "stdout",
     "output_type": "stream",
     "text": [
      "Training...\n",
      "Epoch  1, CIFAR-10 Batch 1:  Loss:     2.1647 Validation Accuracy: 0.197800\n",
      "Epoch  1, CIFAR-10 Batch 2:  Loss:     2.0322 Validation Accuracy: 0.263600\n",
      "Epoch  1, CIFAR-10 Batch 3:  Loss:     1.7450 Validation Accuracy: 0.310000\n",
      "Epoch  1, CIFAR-10 Batch 4:  Loss:     1.7618 Validation Accuracy: 0.343000\n",
      "Epoch  1, CIFAR-10 Batch 5:  Loss:     1.8133 Validation Accuracy: 0.353800\n",
      "Epoch  2, CIFAR-10 Batch 1:  Loss:     1.8938 Validation Accuracy: 0.370400\n",
      "Epoch  2, CIFAR-10 Batch 2:  Loss:     1.7337 Validation Accuracy: 0.398600\n",
      "Epoch  2, CIFAR-10 Batch 3:  Loss:     1.4346 Validation Accuracy: 0.396400\n",
      "Epoch  2, CIFAR-10 Batch 4:  Loss:     1.5768 Validation Accuracy: 0.414600\n",
      "Epoch  2, CIFAR-10 Batch 5:  Loss:     1.6260 Validation Accuracy: 0.413200\n",
      "Epoch  3, CIFAR-10 Batch 1:  Loss:     1.6204 Validation Accuracy: 0.443200\n",
      "Epoch  3, CIFAR-10 Batch 2:  Loss:     1.5537 Validation Accuracy: 0.447200\n",
      "Epoch  3, CIFAR-10 Batch 3:  Loss:     1.2292 Validation Accuracy: 0.429600\n",
      "Epoch  3, CIFAR-10 Batch 4:  Loss:     1.4600 Validation Accuracy: 0.453200\n",
      "Epoch  3, CIFAR-10 Batch 5:  Loss:     1.5252 Validation Accuracy: 0.445200\n",
      "Epoch  4, CIFAR-10 Batch 1:  Loss:     1.4687 Validation Accuracy: 0.459600\n",
      "Epoch  4, CIFAR-10 Batch 2:  Loss:     1.4699 Validation Accuracy: 0.476000\n",
      "Epoch  4, CIFAR-10 Batch 3:  Loss:     1.0998 Validation Accuracy: 0.477400\n",
      "Epoch  4, CIFAR-10 Batch 4:  Loss:     1.3731 Validation Accuracy: 0.488000\n",
      "Epoch  4, CIFAR-10 Batch 5:  Loss:     1.4367 Validation Accuracy: 0.482800\n",
      "Epoch  5, CIFAR-10 Batch 1:  Loss:     1.3619 Validation Accuracy: 0.487200\n",
      "Epoch  5, CIFAR-10 Batch 2:  Loss:     1.3505 Validation Accuracy: 0.491200\n",
      "Epoch  5, CIFAR-10 Batch 3:  Loss:     1.0827 Validation Accuracy: 0.497000\n",
      "Epoch  5, CIFAR-10 Batch 4:  Loss:     1.2972 Validation Accuracy: 0.508800\n",
      "Epoch  5, CIFAR-10 Batch 5:  Loss:     1.4048 Validation Accuracy: 0.499600\n",
      "Epoch  6, CIFAR-10 Batch 1:  Loss:     1.2508 Validation Accuracy: 0.518600\n",
      "Epoch  6, CIFAR-10 Batch 2:  Loss:     1.2710 Validation Accuracy: 0.517600\n",
      "Epoch  6, CIFAR-10 Batch 3:  Loss:     1.0466 Validation Accuracy: 0.521000\n",
      "Epoch  6, CIFAR-10 Batch 4:  Loss:     1.2289 Validation Accuracy: 0.520800\n",
      "Epoch  6, CIFAR-10 Batch 5:  Loss:     1.3563 Validation Accuracy: 0.508600\n",
      "Epoch  7, CIFAR-10 Batch 1:  Loss:     1.2127 Validation Accuracy: 0.533800\n",
      "Epoch  7, CIFAR-10 Batch 2:  Loss:     1.2178 Validation Accuracy: 0.532400\n",
      "Epoch  7, CIFAR-10 Batch 3:  Loss:     0.9957 Validation Accuracy: 0.518800\n",
      "Epoch  7, CIFAR-10 Batch 4:  Loss:     1.1626 Validation Accuracy: 0.542400\n",
      "Epoch  7, CIFAR-10 Batch 5:  Loss:     1.2710 Validation Accuracy: 0.538000\n",
      "Epoch  8, CIFAR-10 Batch 1:  Loss:     1.1408 Validation Accuracy: 0.552600\n",
      "Epoch  8, CIFAR-10 Batch 2:  Loss:     1.1587 Validation Accuracy: 0.546000\n",
      "Epoch  8, CIFAR-10 Batch 3:  Loss:     0.9412 Validation Accuracy: 0.539800\n",
      "Epoch  8, CIFAR-10 Batch 4:  Loss:     1.1175 Validation Accuracy: 0.549400\n",
      "Epoch  8, CIFAR-10 Batch 5:  Loss:     1.1966 Validation Accuracy: 0.543000\n",
      "Epoch  9, CIFAR-10 Batch 1:  Loss:     1.0833 Validation Accuracy: 0.550000\n",
      "Epoch  9, CIFAR-10 Batch 2:  Loss:     1.0702 Validation Accuracy: 0.534200\n",
      "Epoch  9, CIFAR-10 Batch 3:  Loss:     0.9126 Validation Accuracy: 0.544000\n",
      "Epoch  9, CIFAR-10 Batch 4:  Loss:     1.0574 Validation Accuracy: 0.556000\n",
      "Epoch  9, CIFAR-10 Batch 5:  Loss:     1.1139 Validation Accuracy: 0.549600\n",
      "Epoch 10, CIFAR-10 Batch 1:  Loss:     1.0760 Validation Accuracy: 0.559000\n",
      "Epoch 10, CIFAR-10 Batch 2:  Loss:     1.0163 Validation Accuracy: 0.560400\n",
      "Epoch 10, CIFAR-10 Batch 3:  Loss:     0.8801 Validation Accuracy: 0.553000\n",
      "Epoch 10, CIFAR-10 Batch 4:  Loss:     0.9916 Validation Accuracy: 0.571800\n",
      "Epoch 10, CIFAR-10 Batch 5:  Loss:     1.0371 Validation Accuracy: 0.565200\n",
      "Epoch 11, CIFAR-10 Batch 1:  Loss:     0.9866 Validation Accuracy: 0.573400\n",
      "Epoch 11, CIFAR-10 Batch 2:  Loss:     0.9734 Validation Accuracy: 0.565200\n",
      "Epoch 11, CIFAR-10 Batch 3:  Loss:     0.8346 Validation Accuracy: 0.562600\n",
      "Epoch 11, CIFAR-10 Batch 4:  Loss:     0.9525 Validation Accuracy: 0.568800\n",
      "Epoch 11, CIFAR-10 Batch 5:  Loss:     0.9838 Validation Accuracy: 0.569200\n",
      "Epoch 12, CIFAR-10 Batch 1:  Loss:     0.9718 Validation Accuracy: 0.577600\n",
      "Epoch 12, CIFAR-10 Batch 2:  Loss:     0.9569 Validation Accuracy: 0.570800\n",
      "Epoch 12, CIFAR-10 Batch 3:  Loss:     0.7911 Validation Accuracy: 0.576600\n",
      "Epoch 12, CIFAR-10 Batch 4:  Loss:     0.9558 Validation Accuracy: 0.575200\n",
      "Epoch 12, CIFAR-10 Batch 5:  Loss:     0.9554 Validation Accuracy: 0.581600\n",
      "Epoch 13, CIFAR-10 Batch 1:  Loss:     0.9539 Validation Accuracy: 0.593200\n",
      "Epoch 13, CIFAR-10 Batch 2:  Loss:     0.9049 Validation Accuracy: 0.571200\n",
      "Epoch 13, CIFAR-10 Batch 3:  Loss:     0.7930 Validation Accuracy: 0.580000\n",
      "Epoch 13, CIFAR-10 Batch 4:  Loss:     0.8936 Validation Accuracy: 0.577200\n",
      "Epoch 13, CIFAR-10 Batch 5:  Loss:     0.9097 Validation Accuracy: 0.583200\n",
      "Epoch 14, CIFAR-10 Batch 1:  Loss:     0.8983 Validation Accuracy: 0.595000\n",
      "Epoch 14, CIFAR-10 Batch 2:  Loss:     0.8625 Validation Accuracy: 0.587800\n",
      "Epoch 14, CIFAR-10 Batch 3:  Loss:     0.7478 Validation Accuracy: 0.588400\n",
      "Epoch 14, CIFAR-10 Batch 4:  Loss:     0.8389 Validation Accuracy: 0.593800\n",
      "Epoch 14, CIFAR-10 Batch 5:  Loss:     0.8444 Validation Accuracy: 0.590600\n",
      "Epoch 15, CIFAR-10 Batch 1:  Loss:     0.8971 Validation Accuracy: 0.596800\n",
      "Epoch 15, CIFAR-10 Batch 2:  Loss:     0.8294 Validation Accuracy: 0.571000\n",
      "Epoch 15, CIFAR-10 Batch 3:  Loss:     0.7257 Validation Accuracy: 0.585800\n",
      "Epoch 15, CIFAR-10 Batch 4:  Loss:     0.8250 Validation Accuracy: 0.599000\n",
      "Epoch 15, CIFAR-10 Batch 5:  Loss:     0.8247 Validation Accuracy: 0.602800\n",
      "Epoch 16, CIFAR-10 Batch 1:  Loss:     0.8771 Validation Accuracy: 0.598000\n",
      "Epoch 16, CIFAR-10 Batch 2:  Loss:     0.8011 Validation Accuracy: 0.603600\n",
      "Epoch 16, CIFAR-10 Batch 3:  Loss:     0.7039 Validation Accuracy: 0.599800\n",
      "Epoch 16, CIFAR-10 Batch 4:  Loss:     0.8085 Validation Accuracy: 0.601000\n",
      "Epoch 16, CIFAR-10 Batch 5:  Loss:     0.8092 Validation Accuracy: 0.597600\n",
      "Epoch 17, CIFAR-10 Batch 1:  Loss:     0.8768 Validation Accuracy: 0.601000\n",
      "Epoch 17, CIFAR-10 Batch 2:  Loss:     0.7934 Validation Accuracy: 0.603600\n",
      "Epoch 17, CIFAR-10 Batch 3:  Loss:     0.7086 Validation Accuracy: 0.593000\n",
      "Epoch 17, CIFAR-10 Batch 4:  Loss:     0.7690 Validation Accuracy: 0.598000\n",
      "Epoch 17, CIFAR-10 Batch 5:  Loss:     0.7666 Validation Accuracy: 0.598400\n",
      "Epoch 18, CIFAR-10 Batch 1:  Loss:     0.8253 Validation Accuracy: 0.607400\n",
      "Epoch 18, CIFAR-10 Batch 2:  Loss:     0.7324 Validation Accuracy: 0.610000\n",
      "Epoch 18, CIFAR-10 Batch 3:  Loss:     0.6565 Validation Accuracy: 0.598800\n",
      "Epoch 18, CIFAR-10 Batch 4:  Loss:     0.7206 Validation Accuracy: 0.611800\n",
      "Epoch 18, CIFAR-10 Batch 5:  Loss:     0.7185 Validation Accuracy: 0.609000\n",
      "Epoch 19, CIFAR-10 Batch 1:  Loss:     0.8237 Validation Accuracy: 0.609400\n",
      "Epoch 19, CIFAR-10 Batch 2:  Loss:     0.7168 Validation Accuracy: 0.610200\n",
      "Epoch 19, CIFAR-10 Batch 3:  Loss:     0.6209 Validation Accuracy: 0.609000\n",
      "Epoch 19, CIFAR-10 Batch 4:  Loss:     0.7096 Validation Accuracy: 0.611400\n",
      "Epoch 19, CIFAR-10 Batch 5:  Loss:     0.6826 Validation Accuracy: 0.618600\n",
      "Epoch 20, CIFAR-10 Batch 1:  Loss:     0.7850 Validation Accuracy: 0.612200\n",
      "Epoch 20, CIFAR-10 Batch 2:  Loss:     0.6902 Validation Accuracy: 0.607600\n",
      "Epoch 20, CIFAR-10 Batch 3:  Loss:     0.6060 Validation Accuracy: 0.615600\n",
      "Epoch 20, CIFAR-10 Batch 4:  Loss:     0.6888 Validation Accuracy: 0.613800\n",
      "Epoch 20, CIFAR-10 Batch 5:  Loss:     0.6932 Validation Accuracy: 0.616800\n",
      "Epoch 21, CIFAR-10 Batch 1:  Loss:     0.7704 Validation Accuracy: 0.613200\n",
      "Epoch 21, CIFAR-10 Batch 2:  Loss:     0.6971 Validation Accuracy: 0.619200\n",
      "Epoch 21, CIFAR-10 Batch 3:  Loss:     0.6232 Validation Accuracy: 0.606600\n",
      "Epoch 21, CIFAR-10 Batch 4:  Loss:     0.6455 Validation Accuracy: 0.618800\n",
      "Epoch 21, CIFAR-10 Batch 5:  Loss:     0.6519 Validation Accuracy: 0.621200\n",
      "Epoch 22, CIFAR-10 Batch 1:  Loss:     0.7362 Validation Accuracy: 0.623600\n",
      "Epoch 22, CIFAR-10 Batch 2:  Loss:     0.6548 Validation Accuracy: 0.619000\n",
      "Epoch 22, CIFAR-10 Batch 3:  Loss:     0.5715 Validation Accuracy: 0.624800\n",
      "Epoch 22, CIFAR-10 Batch 4:  Loss:     0.6249 Validation Accuracy: 0.627600\n",
      "Epoch 22, CIFAR-10 Batch 5:  Loss:     0.6325 Validation Accuracy: 0.618800\n",
      "Epoch 23, CIFAR-10 Batch 1:  Loss:     0.7381 Validation Accuracy: 0.616600\n",
      "Epoch 23, CIFAR-10 Batch 2:  Loss:     0.6202 Validation Accuracy: 0.622200\n",
      "Epoch 23, CIFAR-10 Batch 3:  Loss:     0.5556 Validation Accuracy: 0.628800\n",
      "Epoch 23, CIFAR-10 Batch 4:  Loss:     0.6211 Validation Accuracy: 0.618800\n",
      "Epoch 23, CIFAR-10 Batch 5:  Loss:     0.6475 Validation Accuracy: 0.623600\n",
      "Epoch 24, CIFAR-10 Batch 1:  Loss:     0.6888 Validation Accuracy: 0.623200\n",
      "Epoch 24, CIFAR-10 Batch 2:  Loss:     0.6053 Validation Accuracy: 0.622000\n",
      "Epoch 24, CIFAR-10 Batch 3:  Loss:     0.5646 Validation Accuracy: 0.616400\n",
      "Epoch 24, CIFAR-10 Batch 4:  Loss:     0.6128 Validation Accuracy: 0.621800\n",
      "Epoch 24, CIFAR-10 Batch 5:  Loss:     0.5951 Validation Accuracy: 0.629400\n",
      "Epoch 25, CIFAR-10 Batch 1:  Loss:     0.7040 Validation Accuracy: 0.626800\n",
      "Epoch 25, CIFAR-10 Batch 2:  Loss:     0.5946 Validation Accuracy: 0.626000\n",
      "Epoch 25, CIFAR-10 Batch 3:  Loss:     0.5201 Validation Accuracy: 0.627800\n",
      "Epoch 25, CIFAR-10 Batch 4:  Loss:     0.5959 Validation Accuracy: 0.631800\n",
      "Epoch 25, CIFAR-10 Batch 5:  Loss:     0.6044 Validation Accuracy: 0.634200\n",
      "Epoch 26, CIFAR-10 Batch 1:  Loss:     0.6935 Validation Accuracy: 0.632800\n",
      "Epoch 26, CIFAR-10 Batch 2:  Loss:     0.6168 Validation Accuracy: 0.629400\n",
      "Epoch 26, CIFAR-10 Batch 3:  Loss:     0.5195 Validation Accuracy: 0.624200\n",
      "Epoch 26, CIFAR-10 Batch 4:  Loss:     0.5969 Validation Accuracy: 0.612600\n",
      "Epoch 26, CIFAR-10 Batch 5:  Loss:     0.5892 Validation Accuracy: 0.636800\n",
      "Epoch 27, CIFAR-10 Batch 1:  Loss:     0.6917 Validation Accuracy: 0.626200\n",
      "Epoch 27, CIFAR-10 Batch 2:  Loss:     0.5478 Validation Accuracy: 0.629000\n",
      "Epoch 27, CIFAR-10 Batch 3:  Loss:     0.5474 Validation Accuracy: 0.632000\n",
      "Epoch 27, CIFAR-10 Batch 4:  Loss:     0.5574 Validation Accuracy: 0.637000\n",
      "Epoch 27, CIFAR-10 Batch 5:  Loss:     0.5449 Validation Accuracy: 0.637800\n",
      "Epoch 28, CIFAR-10 Batch 1:  Loss:     0.6557 Validation Accuracy: 0.636200\n",
      "Epoch 28, CIFAR-10 Batch 2:  Loss:     0.5658 Validation Accuracy: 0.621000\n",
      "Epoch 28, CIFAR-10 Batch 3:  Loss:     0.5296 Validation Accuracy: 0.631400\n",
      "Epoch 28, CIFAR-10 Batch 4:  Loss:     0.5554 Validation Accuracy: 0.632600\n",
      "Epoch 28, CIFAR-10 Batch 5:  Loss:     0.5206 Validation Accuracy: 0.636400\n",
      "Epoch 29, CIFAR-10 Batch 1:  Loss:     0.6454 Validation Accuracy: 0.635200\n",
      "Epoch 29, CIFAR-10 Batch 2:  Loss:     0.5571 Validation Accuracy: 0.636200\n",
      "Epoch 29, CIFAR-10 Batch 3:  Loss:     0.5062 Validation Accuracy: 0.625000\n",
      "Epoch 29, CIFAR-10 Batch 4:  Loss:     0.5016 Validation Accuracy: 0.639600\n",
      "Epoch 29, CIFAR-10 Batch 5:  Loss:     0.5233 Validation Accuracy: 0.644400\n",
      "Epoch 30, CIFAR-10 Batch 1:  Loss:     0.6421 Validation Accuracy: 0.629400\n",
      "Epoch 30, CIFAR-10 Batch 2:  Loss:     0.5020 Validation Accuracy: 0.638000\n",
      "Epoch 30, CIFAR-10 Batch 3:  Loss:     0.4473 Validation Accuracy: 0.629200\n",
      "Epoch 30, CIFAR-10 Batch 4:  Loss:     0.4869 Validation Accuracy: 0.638800\n",
      "Epoch 30, CIFAR-10 Batch 5:  Loss:     0.5194 Validation Accuracy: 0.639400\n",
      "Epoch 31, CIFAR-10 Batch 1:  Loss:     0.6181 Validation Accuracy: 0.641000\n",
      "Epoch 31, CIFAR-10 Batch 2:  Loss:     0.5195 Validation Accuracy: 0.632400\n",
      "Epoch 31, CIFAR-10 Batch 3:  Loss:     0.4815 Validation Accuracy: 0.626400\n",
      "Epoch 31, CIFAR-10 Batch 4:  Loss:     0.4770 Validation Accuracy: 0.644200\n",
      "Epoch 31, CIFAR-10 Batch 5:  Loss:     0.5164 Validation Accuracy: 0.641400\n",
      "Epoch 32, CIFAR-10 Batch 1:  Loss:     0.5892 Validation Accuracy: 0.638400\n",
      "Epoch 32, CIFAR-10 Batch 2:  Loss:     0.5090 Validation Accuracy: 0.631200\n",
      "Epoch 32, CIFAR-10 Batch 3:  Loss:     0.4487 Validation Accuracy: 0.644400\n",
      "Epoch 32, CIFAR-10 Batch 4:  Loss:     0.4871 Validation Accuracy: 0.640000\n",
      "Epoch 32, CIFAR-10 Batch 5:  Loss:     0.5021 Validation Accuracy: 0.646800\n",
      "Epoch 33, CIFAR-10 Batch 1:  Loss:     0.5730 Validation Accuracy: 0.644600\n",
      "Epoch 33, CIFAR-10 Batch 2:  Loss:     0.4683 Validation Accuracy: 0.644000\n",
      "Epoch 33, CIFAR-10 Batch 3:  Loss:     0.4579 Validation Accuracy: 0.645600\n",
      "Epoch 33, CIFAR-10 Batch 4:  Loss:     0.4826 Validation Accuracy: 0.638600\n",
      "Epoch 33, CIFAR-10 Batch 5:  Loss:     0.5020 Validation Accuracy: 0.651000\n",
      "Epoch 34, CIFAR-10 Batch 1:  Loss:     0.5493 Validation Accuracy: 0.640600\n",
      "Epoch 34, CIFAR-10 Batch 2:  Loss:     0.4430 Validation Accuracy: 0.637800\n",
      "Epoch 34, CIFAR-10 Batch 3:  Loss:     0.4309 Validation Accuracy: 0.641800\n",
      "Epoch 34, CIFAR-10 Batch 4:  Loss:     0.4535 Validation Accuracy: 0.638200\n",
      "Epoch 34, CIFAR-10 Batch 5:  Loss:     0.4759 Validation Accuracy: 0.643600\n",
      "Epoch 35, CIFAR-10 Batch 1:  Loss:     0.5630 Validation Accuracy: 0.639400\n",
      "Epoch 35, CIFAR-10 Batch 2:  Loss:     0.4484 Validation Accuracy: 0.651600\n",
      "Epoch 35, CIFAR-10 Batch 3:  Loss:     0.4279 Validation Accuracy: 0.630400\n",
      "Epoch 35, CIFAR-10 Batch 4:  Loss:     0.4375 Validation Accuracy: 0.645200\n",
      "Epoch 35, CIFAR-10 Batch 5:  Loss:     0.4834 Validation Accuracy: 0.650600\n",
      "Epoch 36, CIFAR-10 Batch 1:  Loss:     0.5680 Validation Accuracy: 0.644400\n",
      "Epoch 36, CIFAR-10 Batch 2:  Loss:     0.4153 Validation Accuracy: 0.639800\n",
      "Epoch 36, CIFAR-10 Batch 3:  Loss:     0.4073 Validation Accuracy: 0.643000\n",
      "Epoch 36, CIFAR-10 Batch 4:  Loss:     0.4177 Validation Accuracy: 0.650200\n",
      "Epoch 36, CIFAR-10 Batch 5:  Loss:     0.4767 Validation Accuracy: 0.645800\n",
      "Epoch 37, CIFAR-10 Batch 1:  Loss:     0.5626 Validation Accuracy: 0.637400\n",
      "Epoch 37, CIFAR-10 Batch 2:  Loss:     0.4099 Validation Accuracy: 0.630200\n",
      "Epoch 37, CIFAR-10 Batch 3:  Loss:     0.3936 Validation Accuracy: 0.638600\n",
      "Epoch 37, CIFAR-10 Batch 4:  Loss:     0.4051 Validation Accuracy: 0.646800\n",
      "Epoch 37, CIFAR-10 Batch 5:  Loss:     0.4500 Validation Accuracy: 0.639400\n",
      "Epoch 38, CIFAR-10 Batch 1:  Loss:     0.5235 Validation Accuracy: 0.646000\n",
      "Epoch 38, CIFAR-10 Batch 2:  Loss:     0.4023 Validation Accuracy: 0.642000\n",
      "Epoch 38, CIFAR-10 Batch 3:  Loss:     0.3997 Validation Accuracy: 0.635000\n",
      "Epoch 38, CIFAR-10 Batch 4:  Loss:     0.4036 Validation Accuracy: 0.647600\n",
      "Epoch 38, CIFAR-10 Batch 5:  Loss:     0.4176 Validation Accuracy: 0.650200\n",
      "Epoch 39, CIFAR-10 Batch 1:  Loss:     0.5041 Validation Accuracy: 0.652200\n",
      "Epoch 39, CIFAR-10 Batch 2:  Loss:     0.3927 Validation Accuracy: 0.643200\n",
      "Epoch 39, CIFAR-10 Batch 3:  Loss:     0.3644 Validation Accuracy: 0.644000\n",
      "Epoch 39, CIFAR-10 Batch 4:  Loss:     0.4049 Validation Accuracy: 0.653800\n",
      "Epoch 39, CIFAR-10 Batch 5:  Loss:     0.4492 Validation Accuracy: 0.648200\n",
      "Epoch 40, CIFAR-10 Batch 1:  Loss:     0.4961 Validation Accuracy: 0.646800\n",
      "Epoch 40, CIFAR-10 Batch 2:  Loss:     0.3908 Validation Accuracy: 0.646800\n",
      "Epoch 40, CIFAR-10 Batch 3:  Loss:     0.3680 Validation Accuracy: 0.640600\n",
      "Epoch 40, CIFAR-10 Batch 4:  Loss:     0.3519 Validation Accuracy: 0.652800\n",
      "Epoch 40, CIFAR-10 Batch 5:  Loss:     0.3885 Validation Accuracy: 0.653400\n",
      "Epoch 41, CIFAR-10 Batch 1:  Loss:     0.4624 Validation Accuracy: 0.646000\n",
      "Epoch 41, CIFAR-10 Batch 2:  Loss:     0.3772 Validation Accuracy: 0.639800\n",
      "Epoch 41, CIFAR-10 Batch 3:  Loss:     0.3815 Validation Accuracy: 0.636000\n",
      "Epoch 41, CIFAR-10 Batch 4:  Loss:     0.3381 Validation Accuracy: 0.655000\n",
      "Epoch 41, CIFAR-10 Batch 5:  Loss:     0.3918 Validation Accuracy: 0.648000\n",
      "Epoch 42, CIFAR-10 Batch 1:  Loss:     0.4656 Validation Accuracy: 0.654000\n",
      "Epoch 42, CIFAR-10 Batch 2:  Loss:     0.3776 Validation Accuracy: 0.652600\n",
      "Epoch 42, CIFAR-10 Batch 3:  Loss:     0.3827 Validation Accuracy: 0.648800\n",
      "Epoch 42, CIFAR-10 Batch 4:  Loss:     0.3471 Validation Accuracy: 0.647400\n",
      "Epoch 42, CIFAR-10 Batch 5:  Loss:     0.4196 Validation Accuracy: 0.641000\n",
      "Epoch 43, CIFAR-10 Batch 1:  Loss:     0.4621 Validation Accuracy: 0.651000\n",
      "Epoch 43, CIFAR-10 Batch 2:  Loss:     0.3759 Validation Accuracy: 0.642600\n",
      "Epoch 43, CIFAR-10 Batch 3:  Loss:     0.3455 Validation Accuracy: 0.641600\n",
      "Epoch 43, CIFAR-10 Batch 4:  Loss:     0.3437 Validation Accuracy: 0.655600\n",
      "Epoch 43, CIFAR-10 Batch 5:  Loss:     0.3885 Validation Accuracy: 0.648800\n",
      "Epoch 44, CIFAR-10 Batch 1:  Loss:     0.4333 Validation Accuracy: 0.656000\n",
      "Epoch 44, CIFAR-10 Batch 2:  Loss:     0.3466 Validation Accuracy: 0.650000\n",
      "Epoch 44, CIFAR-10 Batch 3:  Loss:     0.3557 Validation Accuracy: 0.647000\n",
      "Epoch 44, CIFAR-10 Batch 4:  Loss:     0.3196 Validation Accuracy: 0.653600\n",
      "Epoch 44, CIFAR-10 Batch 5:  Loss:     0.3651 Validation Accuracy: 0.653400\n",
      "Epoch 45, CIFAR-10 Batch 1:  Loss:     0.4405 Validation Accuracy: 0.655000\n",
      "Epoch 45, CIFAR-10 Batch 2:  Loss:     0.3356 Validation Accuracy: 0.648400\n",
      "Epoch 45, CIFAR-10 Batch 3:  Loss:     0.3883 Validation Accuracy: 0.649800\n",
      "Epoch 45, CIFAR-10 Batch 4:  Loss:     0.3216 Validation Accuracy: 0.651400\n",
      "Epoch 45, CIFAR-10 Batch 5:  Loss:     0.3583 Validation Accuracy: 0.660000\n",
      "Epoch 46, CIFAR-10 Batch 1:  Loss:     0.4467 Validation Accuracy: 0.655200\n",
      "Epoch 46, CIFAR-10 Batch 2:  Loss:     0.3550 Validation Accuracy: 0.651800\n",
      "Epoch 46, CIFAR-10 Batch 3:  Loss:     0.3446 Validation Accuracy: 0.653600\n",
      "Epoch 46, CIFAR-10 Batch 4:  Loss:     0.3180 Validation Accuracy: 0.656200\n",
      "Epoch 46, CIFAR-10 Batch 5:  Loss:     0.3584 Validation Accuracy: 0.662000\n",
      "Epoch 47, CIFAR-10 Batch 1:  Loss:     0.4423 Validation Accuracy: 0.655400\n",
      "Epoch 47, CIFAR-10 Batch 2:  Loss:     0.3344 Validation Accuracy: 0.652800\n",
      "Epoch 47, CIFAR-10 Batch 3:  Loss:     0.3385 Validation Accuracy: 0.659000\n",
      "Epoch 47, CIFAR-10 Batch 4:  Loss:     0.3029 Validation Accuracy: 0.662800\n",
      "Epoch 47, CIFAR-10 Batch 5:  Loss:     0.3359 Validation Accuracy: 0.653200\n",
      "Epoch 48, CIFAR-10 Batch 1:  Loss:     0.4129 Validation Accuracy: 0.647400\n",
      "Epoch 48, CIFAR-10 Batch 2:  Loss:     0.3263 Validation Accuracy: 0.647800\n",
      "Epoch 48, CIFAR-10 Batch 3:  Loss:     0.3422 Validation Accuracy: 0.646800\n",
      "Epoch 48, CIFAR-10 Batch 4:  Loss:     0.2955 Validation Accuracy: 0.658000\n",
      "Epoch 48, CIFAR-10 Batch 5:  Loss:     0.3239 Validation Accuracy: 0.652400\n",
      "Epoch 49, CIFAR-10 Batch 1:  Loss:     0.4168 Validation Accuracy: 0.659200\n",
      "Epoch 49, CIFAR-10 Batch 2:  Loss:     0.3501 Validation Accuracy: 0.643200\n",
      "Epoch 49, CIFAR-10 Batch 3:  Loss:     0.3374 Validation Accuracy: 0.653000\n",
      "Epoch 49, CIFAR-10 Batch 4:  Loss:     0.3188 Validation Accuracy: 0.655800\n",
      "Epoch 49, CIFAR-10 Batch 5:  Loss:     0.3543 Validation Accuracy: 0.661400\n",
      "Epoch 50, CIFAR-10 Batch 1:  Loss:     0.3930 Validation Accuracy: 0.662000\n",
      "Epoch 50, CIFAR-10 Batch 2:  Loss:     0.3019 Validation Accuracy: 0.656600\n",
      "Epoch 50, CIFAR-10 Batch 3:  Loss:     0.3040 Validation Accuracy: 0.656000\n",
      "Epoch 50, CIFAR-10 Batch 4:  Loss:     0.2887 Validation Accuracy: 0.660400\n",
      "Epoch 50, CIFAR-10 Batch 5:  Loss:     0.3044 Validation Accuracy: 0.661200\n",
      "Epoch 51, CIFAR-10 Batch 1:  Loss:     0.3866 Validation Accuracy: 0.656800\n",
      "Epoch 51, CIFAR-10 Batch 2:  Loss:     0.3142 Validation Accuracy: 0.663000\n",
      "Epoch 51, CIFAR-10 Batch 3:  Loss:     0.3220 Validation Accuracy: 0.657600\n",
      "Epoch 51, CIFAR-10 Batch 4:  Loss:     0.3101 Validation Accuracy: 0.661000\n",
      "Epoch 51, CIFAR-10 Batch 5:  Loss:     0.3305 Validation Accuracy: 0.654800\n",
      "Epoch 52, CIFAR-10 Batch 1:  Loss:     0.3962 Validation Accuracy: 0.654400\n",
      "Epoch 52, CIFAR-10 Batch 2:  Loss:     0.3142 Validation Accuracy: 0.663600\n",
      "Epoch 52, CIFAR-10 Batch 3:  Loss:     0.3245 Validation Accuracy: 0.667600\n",
      "Epoch 52, CIFAR-10 Batch 4:  Loss:     0.2754 Validation Accuracy: 0.662400\n",
      "Epoch 52, CIFAR-10 Batch 5:  Loss:     0.3135 Validation Accuracy: 0.659600\n",
      "Epoch 53, CIFAR-10 Batch 1:  Loss:     0.3811 Validation Accuracy: 0.661400\n",
      "Epoch 53, CIFAR-10 Batch 2:  Loss:     0.3104 Validation Accuracy: 0.656400\n",
      "Epoch 53, CIFAR-10 Batch 3:  Loss:     0.3294 Validation Accuracy: 0.656200\n",
      "Epoch 53, CIFAR-10 Batch 4:  Loss:     0.2758 Validation Accuracy: 0.659000\n",
      "Epoch 53, CIFAR-10 Batch 5:  Loss:     0.2932 Validation Accuracy: 0.655000\n",
      "Epoch 54, CIFAR-10 Batch 1:  Loss:     0.3808 Validation Accuracy: 0.662200\n",
      "Epoch 54, CIFAR-10 Batch 2:  Loss:     0.3025 Validation Accuracy: 0.653000\n",
      "Epoch 54, CIFAR-10 Batch 3:  Loss:     0.3069 Validation Accuracy: 0.651600\n",
      "Epoch 54, CIFAR-10 Batch 4:  Loss:     0.2890 Validation Accuracy: 0.660800\n",
      "Epoch 54, CIFAR-10 Batch 5:  Loss:     0.2997 Validation Accuracy: 0.661200\n",
      "Epoch 55, CIFAR-10 Batch 1:  Loss:     0.3477 Validation Accuracy: 0.657200\n",
      "Epoch 55, CIFAR-10 Batch 2:  Loss:     0.2954 Validation Accuracy: 0.661400\n",
      "Epoch 55, CIFAR-10 Batch 3:  Loss:     0.3162 Validation Accuracy: 0.656800\n",
      "Epoch 55, CIFAR-10 Batch 4:  Loss:     0.2539 Validation Accuracy: 0.666000\n",
      "Epoch 55, CIFAR-10 Batch 5:  Loss:     0.2778 Validation Accuracy: 0.660200\n",
      "Epoch 56, CIFAR-10 Batch 1:  Loss:     0.3727 Validation Accuracy: 0.651000\n",
      "Epoch 56, CIFAR-10 Batch 2:  Loss:     0.2669 Validation Accuracy: 0.668600\n",
      "Epoch 56, CIFAR-10 Batch 3:  Loss:     0.3046 Validation Accuracy: 0.663400\n",
      "Epoch 56, CIFAR-10 Batch 4:  Loss:     0.2518 Validation Accuracy: 0.651400\n",
      "Epoch 56, CIFAR-10 Batch 5:  Loss:     0.2679 Validation Accuracy: 0.660600\n",
      "Epoch 57, CIFAR-10 Batch 1:  Loss:     0.3446 Validation Accuracy: 0.662400\n",
      "Epoch 57, CIFAR-10 Batch 2:  Loss:     0.2667 Validation Accuracy: 0.658800\n",
      "Epoch 57, CIFAR-10 Batch 3:  Loss:     0.2792 Validation Accuracy: 0.663600\n",
      "Epoch 57, CIFAR-10 Batch 4:  Loss:     0.2636 Validation Accuracy: 0.660600\n",
      "Epoch 57, CIFAR-10 Batch 5:  Loss:     0.2679 Validation Accuracy: 0.657000\n",
      "Epoch 58, CIFAR-10 Batch 1:  Loss:     0.3514 Validation Accuracy: 0.648800\n",
      "Epoch 58, CIFAR-10 Batch 2:  Loss:     0.2666 Validation Accuracy: 0.661200\n",
      "Epoch 58, CIFAR-10 Batch 3:  Loss:     0.2919 Validation Accuracy: 0.663200\n",
      "Epoch 58, CIFAR-10 Batch 4:  Loss:     0.2560 Validation Accuracy: 0.663600\n",
      "Epoch 58, CIFAR-10 Batch 5:  Loss:     0.2700 Validation Accuracy: 0.652600\n",
      "Epoch 59, CIFAR-10 Batch 1:  Loss:     0.3443 Validation Accuracy: 0.668200\n",
      "Epoch 59, CIFAR-10 Batch 2:  Loss:     0.2635 Validation Accuracy: 0.669400\n",
      "Epoch 59, CIFAR-10 Batch 3:  Loss:     0.2861 Validation Accuracy: 0.665200\n",
      "Epoch 59, CIFAR-10 Batch 4:  Loss:     0.2506 Validation Accuracy: 0.651600\n",
      "Epoch 59, CIFAR-10 Batch 5:  Loss:     0.2588 Validation Accuracy: 0.651200\n",
      "Epoch 60, CIFAR-10 Batch 1:  Loss:     0.3347 Validation Accuracy: 0.660600\n",
      "Epoch 60, CIFAR-10 Batch 2:  Loss:     0.2484 Validation Accuracy: 0.665000\n",
      "Epoch 60, CIFAR-10 Batch 3:  Loss:     0.2732 Validation Accuracy: 0.659200\n",
      "Epoch 60, CIFAR-10 Batch 4:  Loss:     0.2437 Validation Accuracy: 0.659000\n",
      "Epoch 60, CIFAR-10 Batch 5:  Loss:     0.2746 Validation Accuracy: 0.651200\n",
      "Epoch 61, CIFAR-10 Batch 1:  Loss:     0.3032 Validation Accuracy: 0.652600\n",
      "Epoch 61, CIFAR-10 Batch 2:  Loss:     0.2608 Validation Accuracy: 0.647800\n",
      "Epoch 61, CIFAR-10 Batch 3:  Loss:     0.2393 Validation Accuracy: 0.670400\n",
      "Epoch 61, CIFAR-10 Batch 4:  Loss:     0.2400 Validation Accuracy: 0.661400\n",
      "Epoch 61, CIFAR-10 Batch 5:  Loss:     0.2678 Validation Accuracy: 0.653400\n",
      "Epoch 62, CIFAR-10 Batch 1:  Loss:     0.3312 Validation Accuracy: 0.660000\n",
      "Epoch 62, CIFAR-10 Batch 2:  Loss:     0.2466 Validation Accuracy: 0.656600\n",
      "Epoch 62, CIFAR-10 Batch 3:  Loss:     0.2746 Validation Accuracy: 0.662200\n",
      "Epoch 62, CIFAR-10 Batch 4:  Loss:     0.2266 Validation Accuracy: 0.662800\n",
      "Epoch 62, CIFAR-10 Batch 5:  Loss:     0.2230 Validation Accuracy: 0.650800\n",
      "Epoch 63, CIFAR-10 Batch 1:  Loss:     0.3176 Validation Accuracy: 0.666000\n",
      "Epoch 63, CIFAR-10 Batch 2:  Loss:     0.2667 Validation Accuracy: 0.660400\n",
      "Epoch 63, CIFAR-10 Batch 3:  Loss:     0.2693 Validation Accuracy: 0.660400\n",
      "Epoch 63, CIFAR-10 Batch 4:  Loss:     0.2173 Validation Accuracy: 0.658200\n",
      "Epoch 63, CIFAR-10 Batch 5:  Loss:     0.2351 Validation Accuracy: 0.658000\n",
      "Epoch 64, CIFAR-10 Batch 1:  Loss:     0.3400 Validation Accuracy: 0.667200\n",
      "Epoch 64, CIFAR-10 Batch 2:  Loss:     0.2843 Validation Accuracy: 0.656400\n",
      "Epoch 64, CIFAR-10 Batch 3:  Loss:     0.2366 Validation Accuracy: 0.667000\n",
      "Epoch 64, CIFAR-10 Batch 4:  Loss:     0.2091 Validation Accuracy: 0.659800\n",
      "Epoch 64, CIFAR-10 Batch 5:  Loss:     0.2209 Validation Accuracy: 0.655200\n",
      "Epoch 65, CIFAR-10 Batch 1:  Loss:     0.2982 Validation Accuracy: 0.661800\n",
      "Epoch 65, CIFAR-10 Batch 2:  Loss:     0.2605 Validation Accuracy: 0.659800\n",
      "Epoch 65, CIFAR-10 Batch 3:  Loss:     0.2649 Validation Accuracy: 0.659600\n",
      "Epoch 65, CIFAR-10 Batch 4:  Loss:     0.2209 Validation Accuracy: 0.658000\n",
      "Epoch 65, CIFAR-10 Batch 5:  Loss:     0.2201 Validation Accuracy: 0.655000\n",
      "Epoch 66, CIFAR-10 Batch 1:  Loss:     0.2911 Validation Accuracy: 0.655800\n",
      "Epoch 66, CIFAR-10 Batch 2:  Loss:     0.2360 Validation Accuracy: 0.664400\n",
      "Epoch 66, CIFAR-10 Batch 3:  Loss:     0.2478 Validation Accuracy: 0.668600\n",
      "Epoch 66, CIFAR-10 Batch 4:  Loss:     0.1950 Validation Accuracy: 0.654400\n",
      "Epoch 66, CIFAR-10 Batch 5:  Loss:     0.2183 Validation Accuracy: 0.662000\n",
      "Epoch 67, CIFAR-10 Batch 1:  Loss:     0.3069 Validation Accuracy: 0.667400\n",
      "Epoch 67, CIFAR-10 Batch 2:  Loss:     0.2393 Validation Accuracy: 0.665400\n",
      "Epoch 67, CIFAR-10 Batch 3:  Loss:     0.2215 Validation Accuracy: 0.666400\n",
      "Epoch 67, CIFAR-10 Batch 4:  Loss:     0.2102 Validation Accuracy: 0.659800\n",
      "Epoch 67, CIFAR-10 Batch 5:  Loss:     0.2386 Validation Accuracy: 0.646000\n",
      "Epoch 68, CIFAR-10 Batch 1:  Loss:     0.3003 Validation Accuracy: 0.659800\n",
      "Epoch 68, CIFAR-10 Batch 2:  Loss:     0.2404 Validation Accuracy: 0.664600\n",
      "Epoch 68, CIFAR-10 Batch 3:  Loss:     0.2400 Validation Accuracy: 0.661400\n",
      "Epoch 68, CIFAR-10 Batch 4:  Loss:     0.2071 Validation Accuracy: 0.652000\n",
      "Epoch 68, CIFAR-10 Batch 5:  Loss:     0.2032 Validation Accuracy: 0.653400\n",
      "Epoch 69, CIFAR-10 Batch 1:  Loss:     0.3009 Validation Accuracy: 0.658000\n",
      "Epoch 69, CIFAR-10 Batch 2:  Loss:     0.2271 Validation Accuracy: 0.664400\n",
      "Epoch 69, CIFAR-10 Batch 3:  Loss:     0.2262 Validation Accuracy: 0.669600\n",
      "Epoch 69, CIFAR-10 Batch 4:  Loss:     0.2028 Validation Accuracy: 0.649400\n",
      "Epoch 69, CIFAR-10 Batch 5:  Loss:     0.2152 Validation Accuracy: 0.655600\n",
      "Epoch 70, CIFAR-10 Batch 1:  Loss:     0.2702 Validation Accuracy: 0.664600\n",
      "Epoch 70, CIFAR-10 Batch 2:  Loss:     0.2378 Validation Accuracy: 0.667400\n",
      "Epoch 70, CIFAR-10 Batch 3:  Loss:     0.2252 Validation Accuracy: 0.672600\n",
      "Epoch 70, CIFAR-10 Batch 4:  Loss:     0.1994 Validation Accuracy: 0.653200\n",
      "Epoch 70, CIFAR-10 Batch 5:  Loss:     0.2138 Validation Accuracy: 0.649000\n",
      "Epoch 71, CIFAR-10 Batch 1:  Loss:     0.2633 Validation Accuracy: 0.661400\n",
      "Epoch 71, CIFAR-10 Batch 2:  Loss:     0.2134 Validation Accuracy: 0.675200\n",
      "Epoch 71, CIFAR-10 Batch 3:  Loss:     0.2126 Validation Accuracy: 0.664800\n",
      "Epoch 71, CIFAR-10 Batch 4:  Loss:     0.1881 Validation Accuracy: 0.667000\n",
      "Epoch 71, CIFAR-10 Batch 5:  Loss:     0.2110 Validation Accuracy: 0.656600\n",
      "Epoch 72, CIFAR-10 Batch 1:  Loss:     0.2634 Validation Accuracy: 0.668600\n",
      "Epoch 72, CIFAR-10 Batch 2:  Loss:     0.2144 Validation Accuracy: 0.670000\n",
      "Epoch 72, CIFAR-10 Batch 3:  Loss:     0.1981 Validation Accuracy: 0.666800\n",
      "Epoch 72, CIFAR-10 Batch 4:  Loss:     0.1878 Validation Accuracy: 0.663000\n",
      "Epoch 72, CIFAR-10 Batch 5:  Loss:     0.2219 Validation Accuracy: 0.654400\n",
      "Epoch 73, CIFAR-10 Batch 1:  Loss:     0.2646 Validation Accuracy: 0.660200\n",
      "Epoch 73, CIFAR-10 Batch 2:  Loss:     0.2271 Validation Accuracy: 0.658800\n",
      "Epoch 73, CIFAR-10 Batch 3:  Loss:     0.2193 Validation Accuracy: 0.667200\n",
      "Epoch 73, CIFAR-10 Batch 4:  Loss:     0.2057 Validation Accuracy: 0.667400\n",
      "Epoch 73, CIFAR-10 Batch 5:  Loss:     0.2171 Validation Accuracy: 0.653400\n",
      "Epoch 74, CIFAR-10 Batch 1:  Loss:     0.2910 Validation Accuracy: 0.664800\n",
      "Epoch 74, CIFAR-10 Batch 2:  Loss:     0.2204 Validation Accuracy: 0.660600\n",
      "Epoch 74, CIFAR-10 Batch 3:  Loss:     0.2032 Validation Accuracy: 0.671400\n",
      "Epoch 74, CIFAR-10 Batch 4:  Loss:     0.1903 Validation Accuracy: 0.650000\n",
      "Epoch 74, CIFAR-10 Batch 5:  Loss:     0.2063 Validation Accuracy: 0.651600\n",
      "Epoch 75, CIFAR-10 Batch 1:  Loss:     0.2623 Validation Accuracy: 0.666200\n",
      "Epoch 75, CIFAR-10 Batch 2:  Loss:     0.2458 Validation Accuracy: 0.669800\n",
      "Epoch 75, CIFAR-10 Batch 3:  Loss:     0.1947 Validation Accuracy: 0.663400\n",
      "Epoch 75, CIFAR-10 Batch 4:  Loss:     0.1773 Validation Accuracy: 0.658000\n",
      "Epoch 75, CIFAR-10 Batch 5:  Loss:     0.2269 Validation Accuracy: 0.654400\n",
      "Epoch 76, CIFAR-10 Batch 1:  Loss:     0.2583 Validation Accuracy: 0.669200\n",
      "Epoch 76, CIFAR-10 Batch 2:  Loss:     0.2253 Validation Accuracy: 0.667600\n",
      "Epoch 76, CIFAR-10 Batch 3:  Loss:     0.2006 Validation Accuracy: 0.664600\n",
      "Epoch 76, CIFAR-10 Batch 4:  Loss:     0.1723 Validation Accuracy: 0.666600\n",
      "Epoch 76, CIFAR-10 Batch 5:  Loss:     0.1907 Validation Accuracy: 0.652200\n",
      "Epoch 77, CIFAR-10 Batch 1:  Loss:     0.2593 Validation Accuracy: 0.663800\n",
      "Epoch 77, CIFAR-10 Batch 2:  Loss:     0.2371 Validation Accuracy: 0.662600\n",
      "Epoch 77, CIFAR-10 Batch 3:  Loss:     0.1907 Validation Accuracy: 0.664600\n",
      "Epoch 77, CIFAR-10 Batch 4:  Loss:     0.1873 Validation Accuracy: 0.656200\n",
      "Epoch 77, CIFAR-10 Batch 5:  Loss:     0.2045 Validation Accuracy: 0.651600\n",
      "Epoch 78, CIFAR-10 Batch 1:  Loss:     0.2705 Validation Accuracy: 0.655600\n",
      "Epoch 78, CIFAR-10 Batch 2:  Loss:     0.2174 Validation Accuracy: 0.674400\n",
      "Epoch 78, CIFAR-10 Batch 3:  Loss:     0.1887 Validation Accuracy: 0.663600\n",
      "Epoch 78, CIFAR-10 Batch 4:  Loss:     0.1605 Validation Accuracy: 0.652800\n",
      "Epoch 78, CIFAR-10 Batch 5:  Loss:     0.2039 Validation Accuracy: 0.650800\n",
      "Epoch 79, CIFAR-10 Batch 1:  Loss:     0.2754 Validation Accuracy: 0.653800\n",
      "Epoch 79, CIFAR-10 Batch 2:  Loss:     0.1812 Validation Accuracy: 0.665000\n",
      "Epoch 79, CIFAR-10 Batch 3:  Loss:     0.1841 Validation Accuracy: 0.670000\n",
      "Epoch 79, CIFAR-10 Batch 4:  Loss:     0.1814 Validation Accuracy: 0.658000\n",
      "Epoch 79, CIFAR-10 Batch 5:  Loss:     0.1916 Validation Accuracy: 0.659200\n",
      "Epoch 80, CIFAR-10 Batch 1:  Loss:     0.2560 Validation Accuracy: 0.666200\n",
      "Epoch 80, CIFAR-10 Batch 2:  Loss:     0.1976 Validation Accuracy: 0.660800\n",
      "Epoch 80, CIFAR-10 Batch 3:  Loss:     0.1951 Validation Accuracy: 0.667200\n",
      "Epoch 80, CIFAR-10 Batch 4:  Loss:     0.1811 Validation Accuracy: 0.650400\n",
      "Epoch 80, CIFAR-10 Batch 5:  Loss:     0.1951 Validation Accuracy: 0.660600\n",
      "Epoch 81, CIFAR-10 Batch 1:  Loss:     0.2568 Validation Accuracy: 0.660800\n",
      "Epoch 81, CIFAR-10 Batch 2:  Loss:     0.2220 Validation Accuracy: 0.665000\n",
      "Epoch 81, CIFAR-10 Batch 3:  Loss:     0.2102 Validation Accuracy: 0.664400\n",
      "Epoch 81, CIFAR-10 Batch 4:  Loss:     0.1960 Validation Accuracy: 0.655400\n",
      "Epoch 81, CIFAR-10 Batch 5:  Loss:     0.2055 Validation Accuracy: 0.652000\n",
      "Epoch 82, CIFAR-10 Batch 1:  Loss:     0.2567 Validation Accuracy: 0.660200\n",
      "Epoch 82, CIFAR-10 Batch 2:  Loss:     0.2103 Validation Accuracy: 0.667000\n",
      "Epoch 82, CIFAR-10 Batch 3:  Loss:     0.2031 Validation Accuracy: 0.657200\n",
      "Epoch 82, CIFAR-10 Batch 4:  Loss:     0.1771 Validation Accuracy: 0.654200\n",
      "Epoch 82, CIFAR-10 Batch 5:  Loss:     0.2085 Validation Accuracy: 0.655200\n",
      "Epoch 83, CIFAR-10 Batch 1:  Loss:     0.2604 Validation Accuracy: 0.664600\n",
      "Epoch 83, CIFAR-10 Batch 2:  Loss:     0.2039 Validation Accuracy: 0.661600\n",
      "Epoch 83, CIFAR-10 Batch 3:  Loss:     0.2037 Validation Accuracy: 0.661200\n",
      "Epoch 83, CIFAR-10 Batch 4:  Loss:     0.1838 Validation Accuracy: 0.646600\n",
      "Epoch 83, CIFAR-10 Batch 5:  Loss:     0.1864 Validation Accuracy: 0.649200\n",
      "Epoch 84, CIFAR-10 Batch 1:  Loss:     0.2423 Validation Accuracy: 0.667000\n",
      "Epoch 84, CIFAR-10 Batch 2:  Loss:     0.2082 Validation Accuracy: 0.659000\n",
      "Epoch 84, CIFAR-10 Batch 3:  Loss:     0.2300 Validation Accuracy: 0.655000\n",
      "Epoch 84, CIFAR-10 Batch 4:  Loss:     0.1854 Validation Accuracy: 0.646200\n",
      "Epoch 84, CIFAR-10 Batch 5:  Loss:     0.1962 Validation Accuracy: 0.651000\n",
      "Epoch 85, CIFAR-10 Batch 1:  Loss:     0.2385 Validation Accuracy: 0.658200\n",
      "Epoch 85, CIFAR-10 Batch 2:  Loss:     0.1932 Validation Accuracy: 0.665800\n",
      "Epoch 85, CIFAR-10 Batch 3:  Loss:     0.2034 Validation Accuracy: 0.653400\n",
      "Epoch 85, CIFAR-10 Batch 4:  Loss:     0.1637 Validation Accuracy: 0.643800\n",
      "Epoch 85, CIFAR-10 Batch 5:  Loss:     0.1699 Validation Accuracy: 0.648600\n",
      "Epoch 86, CIFAR-10 Batch 1:  Loss:     0.2498 Validation Accuracy: 0.661400\n",
      "Epoch 86, CIFAR-10 Batch 2:  Loss:     0.2064 Validation Accuracy: 0.661800\n",
      "Epoch 86, CIFAR-10 Batch 3:  Loss:     0.2165 Validation Accuracy: 0.645000\n",
      "Epoch 86, CIFAR-10 Batch 4:  Loss:     0.1752 Validation Accuracy: 0.643000\n",
      "Epoch 86, CIFAR-10 Batch 5:  Loss:     0.1976 Validation Accuracy: 0.644000\n",
      "Epoch 87, CIFAR-10 Batch 1:  Loss:     0.2321 Validation Accuracy: 0.661200\n",
      "Epoch 87, CIFAR-10 Batch 2:  Loss:     0.2139 Validation Accuracy: 0.664800\n",
      "Epoch 87, CIFAR-10 Batch 3:  Loss:     0.1907 Validation Accuracy: 0.648600\n",
      "Epoch 87, CIFAR-10 Batch 4:  Loss:     0.1528 Validation Accuracy: 0.641200\n",
      "Epoch 87, CIFAR-10 Batch 5:  Loss:     0.1869 Validation Accuracy: 0.645400\n",
      "Epoch 88, CIFAR-10 Batch 1:  Loss:     0.2241 Validation Accuracy: 0.658200\n",
      "Epoch 88, CIFAR-10 Batch 2:  Loss:     0.1971 Validation Accuracy: 0.657400\n",
      "Epoch 88, CIFAR-10 Batch 3:  Loss:     0.2016 Validation Accuracy: 0.657000\n",
      "Epoch 88, CIFAR-10 Batch 4:  Loss:     0.1523 Validation Accuracy: 0.652800\n",
      "Epoch 88, CIFAR-10 Batch 5:  Loss:     0.1651 Validation Accuracy: 0.650200\n",
      "Epoch 89, CIFAR-10 Batch 1:  Loss:     0.2113 Validation Accuracy: 0.666600\n",
      "Epoch 89, CIFAR-10 Batch 2:  Loss:     0.1935 Validation Accuracy: 0.662400\n",
      "Epoch 89, CIFAR-10 Batch 3:  Loss:     0.1818 Validation Accuracy: 0.653200\n",
      "Epoch 89, CIFAR-10 Batch 4:  Loss:     0.1571 Validation Accuracy: 0.645000\n",
      "Epoch 89, CIFAR-10 Batch 5:  Loss:     0.1832 Validation Accuracy: 0.645800\n",
      "Epoch 90, CIFAR-10 Batch 1:  Loss:     0.2291 Validation Accuracy: 0.665200\n",
      "Epoch 90, CIFAR-10 Batch 2:  Loss:     0.2002 Validation Accuracy: 0.661400\n",
      "Epoch 90, CIFAR-10 Batch 3:  Loss:     0.1768 Validation Accuracy: 0.648000\n",
      "Epoch 90, CIFAR-10 Batch 4:  Loss:     0.1672 Validation Accuracy: 0.643600\n",
      "Epoch 90, CIFAR-10 Batch 5:  Loss:     0.1741 Validation Accuracy: 0.644600\n",
      "Epoch 91, CIFAR-10 Batch 1:  Loss:     0.2167 Validation Accuracy: 0.663800\n",
      "Epoch 91, CIFAR-10 Batch 2:  Loss:     0.1734 Validation Accuracy: 0.653400\n",
      "Epoch 91, CIFAR-10 Batch 3:  Loss:     0.1719 Validation Accuracy: 0.658400\n",
      "Epoch 91, CIFAR-10 Batch 4:  Loss:     0.1552 Validation Accuracy: 0.644600\n",
      "Epoch 91, CIFAR-10 Batch 5:  Loss:     0.1534 Validation Accuracy: 0.649600\n",
      "Epoch 92, CIFAR-10 Batch 1:  Loss:     0.2001 Validation Accuracy: 0.662200\n",
      "Epoch 92, CIFAR-10 Batch 2:  Loss:     0.1730 Validation Accuracy: 0.664800\n",
      "Epoch 92, CIFAR-10 Batch 3:  Loss:     0.1433 Validation Accuracy: 0.664200\n",
      "Epoch 92, CIFAR-10 Batch 4:  Loss:     0.1405 Validation Accuracy: 0.651600\n",
      "Epoch 92, CIFAR-10 Batch 5:  Loss:     0.1617 Validation Accuracy: 0.659000\n",
      "Epoch 93, CIFAR-10 Batch 1:  Loss:     0.1966 Validation Accuracy: 0.665000\n",
      "Epoch 93, CIFAR-10 Batch 2:  Loss:     0.1645 Validation Accuracy: 0.664800\n",
      "Epoch 93, CIFAR-10 Batch 3:  Loss:     0.1461 Validation Accuracy: 0.662600\n",
      "Epoch 93, CIFAR-10 Batch 4:  Loss:     0.1415 Validation Accuracy: 0.645800\n",
      "Epoch 93, CIFAR-10 Batch 5:  Loss:     0.1336 Validation Accuracy: 0.656200\n",
      "Epoch 94, CIFAR-10 Batch 1:  Loss:     0.2059 Validation Accuracy: 0.663000\n",
      "Epoch 94, CIFAR-10 Batch 2:  Loss:     0.1661 Validation Accuracy: 0.663200\n",
      "Epoch 94, CIFAR-10 Batch 3:  Loss:     0.1437 Validation Accuracy: 0.669600\n",
      "Epoch 94, CIFAR-10 Batch 4:  Loss:     0.1538 Validation Accuracy: 0.632200\n",
      "Epoch 94, CIFAR-10 Batch 5:  Loss:     0.1420 Validation Accuracy: 0.653600\n",
      "Epoch 95, CIFAR-10 Batch 1:  Loss:     0.2183 Validation Accuracy: 0.660600\n",
      "Epoch 95, CIFAR-10 Batch 2:  Loss:     0.1573 Validation Accuracy: 0.668600\n",
      "Epoch 95, CIFAR-10 Batch 3:  Loss:     0.1536 Validation Accuracy: 0.668800\n",
      "Epoch 95, CIFAR-10 Batch 4:  Loss:     0.1460 Validation Accuracy: 0.658000\n",
      "Epoch 95, CIFAR-10 Batch 5:  Loss:     0.1384 Validation Accuracy: 0.651200\n",
      "Epoch 96, CIFAR-10 Batch 1:  Loss:     0.1887 Validation Accuracy: 0.660000\n",
      "Epoch 96, CIFAR-10 Batch 2:  Loss:     0.1663 Validation Accuracy: 0.666200\n",
      "Epoch 96, CIFAR-10 Batch 3:  Loss:     0.1554 Validation Accuracy: 0.659800\n",
      "Epoch 96, CIFAR-10 Batch 4:  Loss:     0.1388 Validation Accuracy: 0.652400\n",
      "Epoch 96, CIFAR-10 Batch 5:  Loss:     0.1300 Validation Accuracy: 0.655000\n",
      "Epoch 97, CIFAR-10 Batch 1:  Loss:     0.1914 Validation Accuracy: 0.661800\n",
      "Epoch 97, CIFAR-10 Batch 2:  Loss:     0.1536 Validation Accuracy: 0.664200\n",
      "Epoch 97, CIFAR-10 Batch 3:  Loss:     0.1472 Validation Accuracy: 0.661800\n",
      "Epoch 97, CIFAR-10 Batch 4:  Loss:     0.1645 Validation Accuracy: 0.655200\n",
      "Epoch 97, CIFAR-10 Batch 5:  Loss:     0.1366 Validation Accuracy: 0.657400\n",
      "Epoch 98, CIFAR-10 Batch 1:  Loss:     0.2001 Validation Accuracy: 0.666200\n",
      "Epoch 98, CIFAR-10 Batch 2:  Loss:     0.1480 Validation Accuracy: 0.666800\n",
      "Epoch 98, CIFAR-10 Batch 3:  Loss:     0.1655 Validation Accuracy: 0.657400\n",
      "Epoch 98, CIFAR-10 Batch 4:  Loss:     0.1511 Validation Accuracy: 0.659400\n",
      "Epoch 98, CIFAR-10 Batch 5:  Loss:     0.1224 Validation Accuracy: 0.669000\n",
      "Epoch 99, CIFAR-10 Batch 1:  Loss:     0.1922 Validation Accuracy: 0.663600\n",
      "Epoch 99, CIFAR-10 Batch 2:  Loss:     0.1567 Validation Accuracy: 0.674800\n",
      "Epoch 99, CIFAR-10 Batch 3:  Loss:     0.1495 Validation Accuracy: 0.657400\n",
      "Epoch 99, CIFAR-10 Batch 4:  Loss:     0.1426 Validation Accuracy: 0.647400\n",
      "Epoch 99, CIFAR-10 Batch 5:  Loss:     0.1324 Validation Accuracy: 0.653400\n",
      "Epoch 100, CIFAR-10 Batch 1:  Loss:     0.1745 Validation Accuracy: 0.666400\n",
      "Epoch 100, CIFAR-10 Batch 2:  Loss:     0.1509 Validation Accuracy: 0.674200\n",
      "Epoch 100, CIFAR-10 Batch 3:  Loss:     0.1362 Validation Accuracy: 0.658200\n",
      "Epoch 100, CIFAR-10 Batch 4:  Loss:     0.1316 Validation Accuracy: 0.658000\n",
      "Epoch 100, CIFAR-10 Batch 5:  Loss:     0.1336 Validation Accuracy: 0.649400\n"
     ]
    }
   ],
   "source": [
    "\"\"\"\n",
    "DON'T MODIFY ANYTHING IN THIS CELL\n",
    "\"\"\"\n",
    "save_model_path = './image_classification'\n",
    "\n",
    "print('Training...')\n",
    "with tf.Session() as sess:\n",
    "    # Initializing the variables\n",
    "    sess.run(tf.global_variables_initializer())\n",
    "    \n",
    "    # Training cycle\n",
    "    for epoch in range(epochs):\n",
    "        # Loop over all batches\n",
    "        n_batches = 5\n",
    "        for batch_i in range(1, n_batches + 1):\n",
    "            for batch_features, batch_labels in helper.load_preprocess_training_batch(batch_i, batch_size):\n",
    "                train_neural_network(sess, optimizer, keep_probability, batch_features, batch_labels)\n",
    "            print('Epoch {:>2}, CIFAR-10 Batch {}:  '.format(epoch + 1, batch_i), end='')\n",
    "            print_stats(sess, batch_features, batch_labels, cost, accuracy)\n",
    "            \n",
    "    # Save Model\n",
    "    saver = tf.train.Saver()\n",
    "    save_path = saver.save(sess, save_model_path)"
   ]
  },
  {
   "cell_type": "markdown",
   "metadata": {
    "deletable": true,
    "editable": true
   },
   "source": [
    "# Checkpoint\n",
    "The model has been saved to disk.\n",
    "## Test Model\n",
    "Test your model against the test dataset.  This will be your final accuracy. You should have an accuracy greater than 50%. If you don't, keep tweaking the model architecture and parameters."
   ]
  },
  {
   "cell_type": "code",
   "execution_count": 115,
   "metadata": {
    "collapsed": false,
    "deletable": true,
    "editable": true
   },
   "outputs": [
    {
     "name": "stdout",
     "output_type": "stream",
     "text": [
      "Testing Accuracy: 0.6455078125\n",
      "\n"
     ]
    },
    {
     "data": {
      "image/png": "[encoded data removed]",
      "text/plain": [
       "<matplotlib.figure.Figure at 0x7f2e731e4b00>"
      ]
     },
     "metadata": {
      "image/png": {
       "height": 319,
       "width": 355
      }
     },
     "output_type": "display_data"
    }
   ],
   "source": [
    "\"\"\"\n",
    "DON'T MODIFY ANYTHING IN THIS CELL\n",
    "\"\"\"\n",
    "%matplotlib inline\n",
    "%config InlineBackend.figure_format = 'retina'\n",
    "\n",
    "import tensorflow as tf\n",
    "import pickle\n",
    "import helper\n",
    "import random\n",
    "\n",
    "# Set batch size if not already set\n",
    "try:\n",
    "    if batch_size:\n",
    "        pass\n",
    "except NameError:\n",
    "    batch_size = 64\n",
    "\n",
    "save_model_path = './image_classification'\n",
    "n_samples = 4\n",
    "top_n_predictions = 3\n",
    "\n",
    "def test_model():\n",
    "    \"\"\"\n",
    "    Test the saved model against the test dataset\n",
    "    \"\"\"\n",
    "\n",
    "    test_features, test_labels = pickle.load(open('preprocess_training.p', mode='rb'))\n",
    "    loaded_graph = tf.Graph()\n",
    "\n",
    "    with tf.Session(graph=loaded_graph) as sess:\n",
    "        # Load model\n",
    "        loader = tf.train.import_meta_graph(save_model_path + '.meta')\n",
    "        loader.restore(sess, save_model_path)\n",
    "\n",
    "        # Get Tensors from loaded model\n",
    "        loaded_x = loaded_graph.get_tensor_by_name('x:0')\n",
    "        loaded_y = loaded_graph.get_tensor_by_name('y:0')\n",
    "        loaded_keep_prob = loaded_graph.get_tensor_by_name('keep_prob:0')\n",
    "        loaded_logits = loaded_graph.get_tensor_by_name('logits:0')\n",
    "        loaded_acc = loaded_graph.get_tensor_by_name('accuracy:0')\n",
    "        \n",
    "        # Get accuracy in batches for memory limitations\n",
    "        test_batch_acc_total = 0\n",
    "        test_batch_count = 0\n",
    "        \n",
    "        for train_feature_batch, train_label_batch in helper.batch_features_labels(test_features, test_labels, batch_size):\n",
    "            test_batch_acc_total += sess.run(\n",
    "                loaded_acc,\n",
    "                feed_dict={loaded_x: train_feature_batch, loaded_y: train_label_batch, loaded_keep_prob: 1.0})\n",
    "            test_batch_count += 1\n",
    "\n",
    "        print('Testing Accuracy: {}\\n'.format(test_batch_acc_total/test_batch_count))\n",
    "\n",
    "        # Print Random Samples\n",
    "        random_test_features, random_test_labels = tuple(zip(*random.sample(list(zip(test_features, test_labels)), n_samples)))\n",
    "        random_test_predictions = sess.run(\n",
    "            tf.nn.top_k(tf.nn.softmax(loaded_logits), top_n_predictions),\n",
    "            feed_dict={loaded_x: random_test_features, loaded_y: random_test_labels, loaded_keep_prob: 1.0})\n",
    "        helper.display_image_predictions(random_test_features, random_test_labels, random_test_predictions)\n",
    "\n",
    "\n",
    "test_model()"
   ]
  },
  {
   "cell_type": "markdown",
   "metadata": {
    "deletable": true,
    "editable": true
   },
   "source": [
    "## Why 50-70% Accuracy?\n",
    "You might be wondering why you can't get an accuracy any higher. First things first, 50% isn't bad for a simple CNN.  Pure guessing would get you 10% accuracy. However, you might notice people are getting scores [well above 70%](http://rodrigob.github.io/are_we_there_yet/build/classification_datasets_results.html#43494641522d3130).  That's because we haven't taught you all there is to know about neural networks. We still need to cover a few more techniques.\n",
    "## Submitting This Project\n",
    "When submitting this project, make sure to run all the cells before saving the notebook.  Save the notebook file as \"dlnd_image_classification.ipynb\" and save it as a HTML file under \"File\" -> \"Download as\".  Include the \"helper.py\" and \"problem_unittests.py\" files in your submission."
   ]
  }
 ],
 "metadata": {
  "kernelspec": {
   "display_name": "Python 3",
   "language": "python",
   "name": "python3"
  },
  "language_info": {
   "codemirror_mode": {
    "name": "ipython",
    "version": 3
   },
   "file_extension": ".py",
   "mimetype": "text/x-python",
   "name": "python",
   "nbconvert_exporter": "python",
   "pygments_lexer": "ipython3",
   "version": "3.5.2"
  },
  "widgets": {
   "state": {},
   "version": "1.1.2"
  }
 },
 "nbformat": 4,
 "nbformat_minor": 0
}
